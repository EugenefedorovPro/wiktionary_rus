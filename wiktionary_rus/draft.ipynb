{
 "cells": [
  {
   "cell_type": "code",
   "execution_count": null,
   "metadata": {},
   "outputs": [],
   "source": []
  },
  {
   "cell_type": "code",
   "execution_count": 1,
   "metadata": {},
   "outputs": [],
   "source": [
    "from wiktionary_rus.dictionary import Dictionary"
   ]
  },
  {
   "cell_type": "code",
   "execution_count": 1,
   "metadata": {},
   "outputs": [
    {
     "name": "stdout",
     "output_type": "stream",
     "text": [
      "Parsed wiktionary uploaded successfully\n"
     ]
    }
   ],
   "source": [
    "from wiktionary_rus.wiktionary import wiki_instances, find_item_from_wiki, wikiout\n"
   ]
  },
  {
   "cell_type": "code",
   "execution_count": 2,
   "metadata": {},
   "outputs": [
    {
     "data": {
      "text/plain": [
       "422821"
      ]
     },
     "execution_count": 2,
     "metadata": {},
     "output_type": "execute_result"
    }
   ],
   "source": [
    "len(wiki_instances)"
   ]
  },
  {
   "cell_type": "code",
   "execution_count": 1,
   "metadata": {},
   "outputs": [
    {
     "name": "stdout",
     "output_type": "stream",
     "text": [
      "Parsed wiktionary uploaded successfully\n"
     ]
    }
   ],
   "source": [
    "from wiktionary_rus.npipa_processing import NpIpaProcessing\n",
    "from wiktionary_rus.wiktionary import find_item_from_wiki"
   ]
  },
  {
   "cell_type": "code",
   "execution_count": 2,
   "metadata": {},
   "outputs": [],
   "source": [
    "ipa_string = find_item_from_wiki(\"до'м\")[0].ipa"
   ]
  },
  {
   "cell_type": "code",
   "execution_count": 3,
   "metadata": {},
   "outputs": [
    {
     "data": {
      "text/plain": [
       "[6, 34, 26]"
      ]
     },
     "execution_count": 3,
     "metadata": {},
     "output_type": "execute_result"
    }
   ],
   "source": [
    "NpIpaProcessing.uni_string_to_int(ipa_string)"
   ]
  },
  {
   "cell_type": "code",
   "execution_count": null,
   "metadata": {},
   "outputs": [],
   "source": []
  },
  {
   "cell_type": "code",
   "execution_count": 1,
   "metadata": {},
   "outputs": [
    {
     "name": "stdout",
     "output_type": "stream",
     "text": [
      "Parsed wiktionary uploaded successfully\n"
     ]
    }
   ],
   "source": [
    "# from wiktionary_rus.wiktionary import find_item_from_wiki, wiki_instances, wikiout\n",
    "# from wiktionary_rus.ipa_processing import IpaProcessing\n",
    "# from wiktionary_rus.npipa_processing import NpIpaProcessing\n",
    "# import numpy as np"
   ]
  },
  {
   "cell_type": "code",
   "execution_count": 8,
   "metadata": {},
   "outputs": [],
   "source": [
    "from wiktionary_rus.wiktionary import find_item_from_wiki, wiki_instances\n",
    "from wiktionary_rus.npipa_processing import *\n",
    "from ipapy import UNICODE_TO_IPA"
   ]
  },
  {
   "cell_type": "code",
   "execution_count": 7,
   "metadata": {},
   "outputs": [
    {
     "data": {
      "text/plain": [
       "[22, 82, 54]"
      ]
     },
     "execution_count": 7,
     "metadata": {},
     "output_type": "execute_result"
    }
   ],
   "source": [
    "find_item_from_wiki(\"клю'ч\")[0].intipa "
   ]
  },
  {
   "cell_type": "code",
   "execution_count": 10,
   "metadata": {},
   "outputs": [
    {
     "data": {
      "text/plain": [
       "422821"
      ]
     },
     "execution_count": 10,
     "metadata": {},
     "output_type": "execute_result"
    }
   ],
   "source": [
    "len(wiki_instances)"
   ]
  },
  {
   "cell_type": "code",
   "execution_count": 18,
   "metadata": {},
   "outputs": [
    {
     "data": {
      "text/plain": [
       "395692"
      ]
     },
     "execution_count": 18,
     "metadata": {},
     "output_type": "execute_result"
    }
   ],
   "source": [
    "len([item for item in wiki_instances if item.status == True])"
   ]
  },
  {
   "cell_type": "code",
   "execution_count": 13,
   "metadata": {},
   "outputs": [],
   "source": [
    "all_false = [item for item in wiki_instances if item.status == False]"
   ]
  },
  {
   "cell_type": "code",
   "execution_count": 16,
   "metadata": {},
   "outputs": [
    {
     "data": {
      "text/plain": [
       "{'word': 'сахарная вата',\n",
       " 'word_lowcase': 'сахарная вата',\n",
       " 'stem': \"са'харная ва'та\",\n",
       " 'pos': 'noun',\n",
       " 'grammeme': ['feminine', 'nominative', 'singular'],\n",
       " 'meanings': [['cotton candy, candy floss, fairy floss']],\n",
       " 'accent': \"са'харная ва'та\",\n",
       " 'sounds': 'ˈsaxərnəjə ˈvatə',\n",
       " 'status': False,\n",
       " 'ipa': None,\n",
       " 'npipa': None,\n",
       " 'intipa': None}"
      ]
     },
     "execution_count": 16,
     "metadata": {},
     "output_type": "execute_result"
    }
   ],
   "source": [
    "vars(all_false[56])"
   ]
  },
  {
   "cell_type": "code",
   "execution_count": null,
   "metadata": {},
   "outputs": [],
   "source": []
  },
  {
   "cell_type": "code",
   "execution_count": 3,
   "metadata": {},
   "outputs": [],
   "source": [
    "ipa_string = find_item_from_wiki(\"а'кр\")[0].ipa"
   ]
  },
  {
   "cell_type": "code",
   "execution_count": 5,
   "metadata": {},
   "outputs": [
    {
     "data": {
      "text/plain": [
       "True"
      ]
     },
     "execution_count": 5,
     "metadata": {},
     "output_type": "execute_result"
    }
   ],
   "source": [
    "all(np.array([1,18,39], dtype = \"float32\")) == all(NpIpaProcessing.ipa_string_to_numbers(ipa_string))"
   ]
  },
  {
   "cell_type": "code",
   "execution_count": null,
   "metadata": {},
   "outputs": [],
   "source": []
  },
  {
   "cell_type": "code",
   "execution_count": 1,
   "metadata": {},
   "outputs": [
    {
     "name": "stdout",
     "output_type": "stream",
     "text": [
      "c:\\Users\\eugen\\Documents\\wiktionary_rus\\wiktionary_rus\n",
      "c:\\Users\\eugen\\Documents\\wiktionary_rus\n",
      "c:\\Users\\eugen\\Documents\\wiktionary_rus\\tests\n",
      "C:\\Users\\eugen\\AppData\\Local\\Programs\\Python\\Python310\\python310.zip\n",
      "C:\\Users\\eugen\\AppData\\Local\\Programs\\Python\\Python310\\DLLs\n",
      "C:\\Users\\eugen\\AppData\\Local\\Programs\\Python\\Python310\\lib\n",
      "C:\\Users\\eugen\\AppData\\Local\\Programs\\Python\\Python310\n",
      "c:\\Users\\eugen\\Documents\\wiktionary_rus\\venv\n",
      "\n",
      "c:\\Users\\eugen\\Documents\\wiktionary_rus\\venv\\lib\\site-packages\n",
      "c:\\Users\\eugen\\Documents\\wiktionary_rus\\venv\\lib\\site-packages\\win32\n",
      "c:\\Users\\eugen\\Documents\\wiktionary_rus\\venv\\lib\\site-packages\\win32\\lib\n",
      "c:\\Users\\eugen\\Documents\\wiktionary_rus\\venv\\lib\\site-packages\\Pythonwin\n"
     ]
    }
   ],
   "source": [
    "import sys\n",
    "for p in sys.path: print(p)"
   ]
  },
  {
   "cell_type": "code",
   "execution_count": null,
   "metadata": {},
   "outputs": [],
   "source": []
  },
  {
   "cell_type": "code",
   "execution_count": null,
   "metadata": {},
   "outputs": [],
   "source": [
    "my_ipa = find_item_from_wiki(\"акр\")[0].ipa"
   ]
  },
  {
   "cell_type": "code",
   "execution_count": null,
   "metadata": {},
   "outputs": [],
   "source": [
    "NpIpaProcessing.ipa_string_to_numbers(my_ipa)"
   ]
  },
  {
   "cell_type": "code",
   "execution_count": null,
   "metadata": {},
   "outputs": [],
   "source": [
    "NpIpaProcessing.uni_string_to_int(my_ipa)"
   ]
  },
  {
   "cell_type": "code",
   "execution_count": null,
   "metadata": {},
   "outputs": [],
   "source": [
    "import numpy as np\n",
    "np.array([1,18,39], dtype = \"float32\")"
   ]
  },
  {
   "cell_type": "code",
   "execution_count": null,
   "metadata": {},
   "outputs": [],
   "source": []
  },
  {
   "cell_type": "code",
   "execution_count": null,
   "metadata": {},
   "outputs": [],
   "source": []
  },
  {
   "cell_type": "code",
   "execution_count": null,
   "metadata": {},
   "outputs": [],
   "source": [
    "def create_dict_name_ipa(UNICODE_TO_IPA):\n",
    "    dict_name_ipa = {ip.name:ip for ip in UNICODE_TO_IPA.values()}\n",
    "    return dict_name_ipa\n",
    "dict_name_ipa = create_dict_name_ipa(UNICODE_TO_IPA)\n",
    "len(dict_name_ipa)"
   ]
  },
  {
   "cell_type": "code",
   "execution_count": null,
   "metadata": {},
   "outputs": [],
   "source": [
    "def equal_ipa_in_wiki_and_ipapy(dict_name_ipa):\n",
    "    count = 0\n",
    "    for item in wiki_instances:\n",
    "        if item.ipa:\n",
    "            list_new_ip = []\n",
    "            for ip in item.ipa:\n",
    "                new_ip = dict_name_ipa[ip.name]\n",
    "                list_new_ip.append(new_ip)\n",
    "            item.ipa = IPAString(ipa_chars=list_new_ip)\n",
    "            count += 1\n",
    "    return count\n",
    "equal_ipa_in_wiki_and_ipapy(dict_name_ipa)\n"
   ]
  },
  {
   "cell_type": "code",
   "execution_count": null,
   "metadata": {},
   "outputs": [],
   "source": [
    "def get_unique_ipa():\n",
    "    all_signs = set()\n",
    "    for item in wiki_instances:\n",
    "        if item.ipa:\n",
    "            value = item.ipa\n",
    "            for ch in value:\n",
    "                all_signs.add(ch)\n",
    "    # dict_uni_repr_ipas = {ip.unicode_repr:ip for ip in list(all_signs)}\n",
    "    # list_unique_ipas = [dict_uni_repr_ipas[key] for key in sorted(dict_uni_repr_ipas.keys())]\n",
    "    # return list_unique_ipas\n",
    "    return all_signs"
   ]
  },
  {
   "cell_type": "code",
   "execution_count": null,
   "metadata": {},
   "outputs": [],
   "source": [
    "all_signs = get_unique_ipa()"
   ]
  },
  {
   "cell_type": "code",
   "execution_count": null,
   "metadata": {},
   "outputs": [],
   "source": [
    "len(all_signs)"
   ]
  },
  {
   "cell_type": "code",
   "execution_count": null,
   "metadata": {},
   "outputs": [],
   "source": [
    "for ip_local in all_signs:\n",
    "    for ip_ipapy in UNICODE_TO_IPA.values():\n",
    "        if ip_ipapy.name == ip_local.name:\n",
    "            # ip_local = ip_ipapy\n",
    "            print(ip_ipapy, id(ip_ipapy), ip_local, id(ip_local))"
   ]
  },
  {
   "cell_type": "code",
   "execution_count": null,
   "metadata": {},
   "outputs": [],
   "source": [
    "for ip_local in all_signs:\n",
    "    print(ip_local, id(ip_local))\n",
    "    break"
   ]
  },
  {
   "cell_type": "code",
   "execution_count": null,
   "metadata": {},
   "outputs": [],
   "source": [
    "for ip in all_signs:\n",
    "    if ip.unicode_repr == \"a\":\n",
    "        print(ip, id(ip))\n",
    "        break"
   ]
  },
  {
   "cell_type": "code",
   "execution_count": null,
   "metadata": {},
   "outputs": [],
   "source": [
    "id(UNICODE_TO_IPA[\"a\"])"
   ]
  },
  {
   "cell_type": "code",
   "execution_count": null,
   "metadata": {},
   "outputs": [],
   "source": [
    "id(IPAString(unicode_string=\"arka\")[0])"
   ]
  },
  {
   "cell_type": "code",
   "execution_count": null,
   "metadata": {},
   "outputs": [],
   "source": [
    "id(find_item_from_wiki(\"акр\")[0].ipa[0])"
   ]
  },
  {
   "cell_type": "code",
   "execution_count": null,
   "metadata": {},
   "outputs": [],
   "source": [
    "id(find_item_from_wiki(\"ад\")[0].ipa[0])"
   ]
  },
  {
   "cell_type": "code",
   "execution_count": null,
   "metadata": {},
   "outputs": [],
   "source": []
  },
  {
   "cell_type": "code",
   "execution_count": null,
   "metadata": {},
   "outputs": [],
   "source": []
  },
  {
   "cell_type": "code",
   "execution_count": null,
   "metadata": {},
   "outputs": [],
   "source": [
    "list_unique_ipas = IpaProcessing.get_unique_ipa()\n",
    "list_unique_ipas[0]"
   ]
  },
  {
   "cell_type": "code",
   "execution_count": null,
   "metadata": {},
   "outputs": [],
   "source": [
    "vars(UNICODE_TO_IPA[\"m\"])"
   ]
  },
  {
   "cell_type": "code",
   "execution_count": null,
   "metadata": {},
   "outputs": [],
   "source": [
    "find_item_from_wiki(\"тень\")[0].ipa[-1]._IPAChar__canonical_string"
   ]
  },
  {
   "cell_type": "code",
   "execution_count": null,
   "metadata": {},
   "outputs": [],
   "source": [
    "list_unique_ipas[0] == find_item_from_wiki(\"акр\")[0].ipa[0]"
   ]
  },
  {
   "cell_type": "code",
   "execution_count": null,
   "metadata": {},
   "outputs": [],
   "source": [
    "list_unique_ipas[0] == UNICODE_TO_IPA[\"a\"]"
   ]
  },
  {
   "cell_type": "code",
   "execution_count": null,
   "metadata": {},
   "outputs": [],
   "source": [
    "UNICODE_TO_IPA[find_item_from_wiki(\"акр\")[0].sounds[0]] == list_unique_ipas[0]"
   ]
  },
  {
   "cell_type": "code",
   "execution_count": null,
   "metadata": {},
   "outputs": [],
   "source": [
    "for ip_new in list_unique_ipas:\n",
    "    for ip_old in UNICODE_TO_IPA.values():\n",
    "        if ip_new._IPAChar__canonical_string == ip_old._IPAChar__canonical_string:\n",
    "            #ip_new = ip_old \n",
    "            print(ip_old, ip_new, id(ip_old), id(ip_new))\n",
    "            "
   ]
  },
  {
   "cell_type": "code",
   "execution_count": null,
   "metadata": {},
   "outputs": [],
   "source": []
  },
  {
   "cell_type": "code",
   "execution_count": null,
   "metadata": {},
   "outputs": [],
   "source": [
    "list_unique_ipas[1] == UNICODE_TO_IPA[\"b\"]"
   ]
  },
  {
   "cell_type": "code",
   "execution_count": null,
   "metadata": {},
   "outputs": [],
   "source": [
    "id(list_unique_ipas[1])"
   ]
  },
  {
   "cell_type": "code",
   "execution_count": null,
   "metadata": {},
   "outputs": [],
   "source": [
    "id(UNICODE_TO_IPA[\"b\"])"
   ]
  },
  {
   "cell_type": "code",
   "execution_count": null,
   "metadata": {},
   "outputs": [],
   "source": [
    "list_unique_ipas"
   ]
  },
  {
   "cell_type": "code",
   "execution_count": null,
   "metadata": {},
   "outputs": [],
   "source": []
  },
  {
   "cell_type": "code",
   "execution_count": null,
   "metadata": {},
   "outputs": [],
   "source": []
  },
  {
   "cell_type": "code",
   "execution_count": null,
   "metadata": {},
   "outputs": [],
   "source": [
    "def get_unique_ipa():\n",
    "    all_signs = set()\n",
    "    for item in wiki_instances:\n",
    "        if item.ipa:\n",
    "            value = item.ipa\n",
    "            for ch in value:\n",
    "                all_signs.add(ch)\n",
    "    list_unique_ipas = list(all_signs)\n",
    "    return list_unique_ipas\n",
    "list_unique_ipas = get_unique_ipa()\n",
    "list_unique_ipas[0:3]\n"
   ]
  },
  {
   "cell_type": "code",
   "execution_count": null,
   "metadata": {},
   "outputs": [],
   "source": [
    "my_dict = {ip.unicode_repr: ip for ip in list_unique_ipas}"
   ]
  },
  {
   "cell_type": "code",
   "execution_count": null,
   "metadata": {},
   "outputs": [],
   "source": [
    "[my_dict[key] for key in sorted(my_dict.keys())]"
   ]
  },
  {
   "cell_type": "code",
   "execution_count": null,
   "metadata": {},
   "outputs": [],
   "source": []
  },
  {
   "cell_type": "code",
   "execution_count": null,
   "metadata": {},
   "outputs": [],
   "source": []
  },
  {
   "cell_type": "code",
   "execution_count": null,
   "metadata": {},
   "outputs": [],
   "source": []
  },
  {
   "cell_type": "code",
   "execution_count": null,
   "metadata": {},
   "outputs": [],
   "source": [
    "unicode_sorted = list([ip.unicode_repr for ip in list_unique_ipas])\n",
    "unicode_sorted.sort()\n",
    "print(unicode_sorted)"
   ]
  },
  {
   "cell_type": "code",
   "execution_count": null,
   "metadata": {},
   "outputs": [],
   "source": [
    "list_unique_ipas_dict = {}\n",
    "for ip in list_unique_ipas:\n",
    "    for i,un in enumerate(unicode_sorted):\n",
    "        if ip.unicode_repr == un:\n",
    "            list_unique_ipas_dict[i] = ip"
   ]
  },
  {
   "cell_type": "code",
   "execution_count": null,
   "metadata": {},
   "outputs": [],
   "source": [
    "list_unique_ipas_dict[0]"
   ]
  },
  {
   "cell_type": "code",
   "execution_count": null,
   "metadata": {},
   "outputs": [],
   "source": [
    "akr = find_item_from_wiki(\"акр\")[0].ipa\n",
    "akr"
   ]
  },
  {
   "cell_type": "code",
   "execution_count": null,
   "metadata": {},
   "outputs": [],
   "source": [
    "list_unique_ipas_dict[0] == akr[0]"
   ]
  },
  {
   "cell_type": "code",
   "execution_count": null,
   "metadata": {},
   "outputs": [],
   "source": [
    "UNICODE_TO_IPA"
   ]
  },
  {
   "cell_type": "code",
   "execution_count": null,
   "metadata": {},
   "outputs": [],
   "source": []
  },
  {
   "cell_type": "code",
   "execution_count": null,
   "metadata": {},
   "outputs": [],
   "source": [
    "list_unique_unicodes = IpaProcessing.get_unique_ipa()"
   ]
  },
  {
   "cell_type": "code",
   "execution_count": null,
   "metadata": {},
   "outputs": [],
   "source": [
    "print(list_unique_unicodes)"
   ]
  },
  {
   "cell_type": "code",
   "execution_count": null,
   "metadata": {},
   "outputs": [],
   "source": [
    "sign2number = IpaProcessing.get_sign2number(list_unique_unicodes)"
   ]
  },
  {
   "cell_type": "code",
   "execution_count": null,
   "metadata": {},
   "outputs": [],
   "source": [
    "number2sign = IpaProcessing.get_number2sign(list_unique_unicodes)"
   ]
  },
  {
   "cell_type": "code",
   "execution_count": null,
   "metadata": {},
   "outputs": [],
   "source": [
    "number2sign[1]"
   ]
  },
  {
   "cell_type": "code",
   "execution_count": null,
   "metadata": {},
   "outputs": [],
   "source": [
    "UNICODE_TO_IPA[list_unique_unicodes[0]] == number2sign[1]"
   ]
  },
  {
   "cell_type": "code",
   "execution_count": null,
   "metadata": {},
   "outputs": [],
   "source": [
    "arka = find_item_from_wiki(\"арка\")[0].ipa\n",
    "arka"
   ]
  },
  {
   "cell_type": "code",
   "execution_count": null,
   "metadata": {},
   "outputs": [],
   "source": [
    "arka[0].is_equivalent(number2sign[1])"
   ]
  },
  {
   "cell_type": "code",
   "execution_count": null,
   "metadata": {},
   "outputs": [],
   "source": [
    "vars(number2sign[1])"
   ]
  },
  {
   "cell_type": "code",
   "execution_count": null,
   "metadata": {},
   "outputs": [],
   "source": [
    "vars(arka[0])"
   ]
  },
  {
   "cell_type": "code",
   "execution_count": null,
   "metadata": {},
   "outputs": [],
   "source": [
    "dir(arka[0])"
   ]
  },
  {
   "cell_type": "code",
   "execution_count": null,
   "metadata": {},
   "outputs": [],
   "source": [
    "number2sign[1].__hash__"
   ]
  },
  {
   "cell_type": "code",
   "execution_count": null,
   "metadata": {},
   "outputs": [],
   "source": [
    "a_1 = UNICODE_TO_IPA[\"a\"]\n",
    "a_2 = UNICODE_TO_IPA[\"a\"]"
   ]
  },
  {
   "cell_type": "code",
   "execution_count": null,
   "metadata": {},
   "outputs": [],
   "source": [
    "a_1 == arka[0] "
   ]
  },
  {
   "cell_type": "code",
   "execution_count": null,
   "metadata": {},
   "outputs": [],
   "source": []
  },
  {
   "cell_type": "code",
   "execution_count": null,
   "metadata": {},
   "outputs": [],
   "source": []
  }
 ],
 "metadata": {
  "language_info": {
   "name": "python"
  },
  "orig_nbformat": 4
 },
 "nbformat": 4,
 "nbformat_minor": 2
}
