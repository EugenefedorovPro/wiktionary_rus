{
 "cells": [
  {
   "cell_type": "markdown",
   "metadata": {
    "collapsed": false,
    "pycharm": {
     "name": "#%% md\n"
    }
   },
   "source": [
    "# Import"
   ]
  },
  {
   "cell_type": "code",
   "execution_count": 3,
   "metadata": {
    "collapsed": false,
    "pycharm": {
     "name": "#%%\n"
    }
   },
   "outputs": [],
   "source": [
    "import numpy as np\n",
    "import pandas as pd\n",
    "import dill\n",
    "import re\n",
    "import json\n",
    "import random\n",
    "from ipapy import UNICODE_TO_IPA\n",
    "from ipapy import is_valid_ipa\n",
    "from ipapy.ipastring import IPAString\n",
    "from pathlib import Path"
   ]
  },
  {
   "cell_type": "code",
   "execution_count": 4,
   "metadata": {
    "collapsed": false,
    "pycharm": {
     "name": "#%%\n"
    }
   },
   "outputs": [
    {
     "name": "stdout",
     "output_type": "stream",
     "text": [
      "422821\n"
     ]
    }
   ],
   "source": [
    "#wiktionary rus parsed \n",
    "#func to upload original rus wiktionary\n",
    "\n",
    "def upload_kaikki(path_kaikki):\n",
    "  wiki_uploaded = []\n",
    "  with open(path_kaikki) as f:\n",
    "    for line in f:\n",
    "      wiki_uploaded.append(json.loads(line))\n",
    "  return wiki_uploaded\n",
    "\n",
    "path_kaikki = \"kaikki.org-dictionary-Russian_2022_01_01.json\"\n",
    "wiki_uploaded = upload_kaikki(path_kaikki)\n",
    "print(len(wiki_uploaded))"
   ]
  },
  {
   "cell_type": "code",
   "execution_count": 5,
   "metadata": {
    "collapsed": false,
    "pycharm": {
     "name": "#%%\n"
    }
   },
   "outputs": [
    {
     "data": {
      "text/plain": [
       "[{'pos': 'noun',\n",
       "  'head_templates': [{'name': 'head',\n",
       "    'args': {'1': 'ru',\n",
       "     '2': 'noun form',\n",
       "     'head': 'о́кнами',\n",
       "     'tr': '',\n",
       "     'tr2': '',\n",
       "     'tr3': '',\n",
       "     'tr4': '',\n",
       "     'tr5': '',\n",
       "     'tr6': '',\n",
       "     'g': 'n-in-p',\n",
       "     'head2': '',\n",
       "     'head3': '',\n",
       "     'head4': '',\n",
       "     'head5': '',\n",
       "     'head6': '',\n",
       "     'g2': '',\n",
       "     'g3': '',\n",
       "     'g4': '',\n",
       "     'g5': '',\n",
       "     'g6': '',\n",
       "     'g7': '',\n",
       "     'g8': '',\n",
       "     'g9': '',\n",
       "     'g10': '',\n",
       "     'g11': '',\n",
       "     'g12': ''},\n",
       "    'expansion': 'о́кнами (óknami) n inan pl'},\n",
       "   {'name': 'ru-noun form',\n",
       "    'args': {'1': 'о́кнами', '2': 'n-in-p'},\n",
       "    'expansion': 'о́кнами (óknami) n inan pl'}],\n",
       "  'forms': [{'form': 'о́кнами',\n",
       "    'tags': ['canonical', 'inanimate', 'neuter', 'plural']},\n",
       "   {'form': 'óknami', 'tags': ['romanization']}],\n",
       "  'word': 'окнами',\n",
       "  'lang': 'Russian',\n",
       "  'lang_code': 'ru',\n",
       "  'sounds': [{'ipa': '[ˈoknəmʲɪ]'}],\n",
       "  'senses': [{'raw_glosses': ['instrumental plural of окно́ (oknó)'],\n",
       "    'glosses': ['instrumental plural of окно́ (oknó)'],\n",
       "    'tags': ['form-of', 'instrumental', 'plural'],\n",
       "    'form_of': [{'word': 'окно́', 'extra': 'oknó'}],\n",
       "    'id': 'окнами-ru-noun-Hux0UPBF',\n",
       "    'categories': []}]}]"
      ]
     },
     "execution_count": 5,
     "metadata": {},
     "output_type": "execute_result"
    }
   ],
   "source": [
    "#check of uploaded kaikki\n",
    "def get_article_from_wiki(word):\n",
    "  return [item for item in wiki_uploaded if item['word'] == word]\n",
    "get_article_from_wiki('окнами')"
   ]
  },
  {
   "cell_type": "markdown",
   "metadata": {
    "collapsed": false,
    "pycharm": {
     "name": "#%% md\n"
    }
   },
   "source": [
    "# Dictionary"
   ]
  },
  {
   "cell_type": "code",
   "execution_count": 6,
   "metadata": {
    "collapsed": false,
    "pycharm": {
     "name": "#%%\n"
    }
   },
   "outputs": [],
   "source": [
    "#defining basic class Dictionary, where all parsed items wil be stored\n",
    "class Dictionary:\n",
    "  def __init__(self, word, pos, forms, senses, sounds, status, word_lowcase, stem,\n",
    "               grammeme, meanings, accent, ipa, npipa, intipa):\n",
    "    self.word = word\n",
    "    self.word_lowcase = word_lowcase\n",
    "    self.stem = stem\n",
    "    self.pos = pos\n",
    "    self.grammeme = grammeme\n",
    "    self.forms = forms\n",
    "    self.senses = senses\n",
    "    self.meanings = meanings\n",
    "    self.accent = accent\n",
    "    self.sounds = sounds\n",
    "    self.status = status\n",
    "    self.ipa = ipa\n",
    "    self.npipa = npipa\n",
    "    self.intipa = intipa"
   ]
  },
  {
   "cell_type": "code",
   "execution_count": 7,
   "metadata": {
    "collapsed": false,
    "pycharm": {
     "name": "#%%\n"
    }
   },
   "outputs": [],
   "source": [
    "# func for populating class Dictionary with words\n",
    "# creation of wiki_instances - list, containing all instances of a class\n",
    "\n",
    "def wiki2class(wiki_uploaded):\n",
    "\n",
    "    wiki_instances = []\n",
    "    \n",
    "    for item in wiki_uploaded:\n",
    "\n",
    "        try:               \n",
    "            word = item['word']\n",
    "        except KeyError:\n",
    "            word = None\n",
    "\n",
    "        try:\n",
    "            pos = item['pos']\n",
    "        except KeyError:\n",
    "            pos = None\n",
    "\n",
    "        try:\n",
    "            forms = item['forms']\n",
    "        except KeyError:\n",
    "            forms = None\n",
    "\n",
    "        try:\n",
    "            senses = item['senses']\n",
    "        except KeyError:\n",
    "            senses = None\n",
    "\n",
    "        try:\n",
    "            sounds = item['sounds']\n",
    "        except KeyError:\n",
    "            sounds = None\n",
    "\n",
    "        status = False\n",
    "\n",
    "        item = Dictionary(word, pos, forms, senses, sounds, status,\n",
    "                        None, None, None, None, None, None, None, None)\n",
    "        wiki_instances.append(item)\n",
    "    \n",
    "    return wiki_instances"
   ]
  },
  {
   "cell_type": "code",
   "execution_count": 8,
   "metadata": {
    "collapsed": false,
    "pycharm": {
     "name": "#%%\n"
    }
   },
   "outputs": [
    {
     "name": "stdout",
     "output_type": "stream",
     "text": [
      "422821\n"
     ]
    }
   ],
   "source": [
    "#running func for populate Dictionary class with words. No return\n",
    "wiki_instances = wiki2class(wiki_uploaded)\n",
    "print(len(wiki_instances))"
   ]
  },
  {
   "cell_type": "code",
   "execution_count": 9,
   "metadata": {
    "collapsed": false,
    "pycharm": {
     "name": "#%%\n"
    }
   },
   "outputs": [],
   "source": [
    "# func to find item from wiki_instances\n",
    "def find_item_from_dict(word_to_find, wiki_instances):\n",
    "    item = [item for item in wiki_instances if item.word == word_to_find]\n",
    "    return item"
   ]
  },
  {
   "cell_type": "code",
   "execution_count": 10,
   "metadata": {},
   "outputs": [
    {
     "data": {
      "text/plain": [
       "{'word': 'поездом',\n",
       " 'word_lowcase': None,\n",
       " 'stem': None,\n",
       " 'pos': 'noun',\n",
       " 'grammeme': None,\n",
       " 'forms': [{'form': 'по́ездом',\n",
       "   'tags': ['canonical', 'inanimate', 'masculine']},\n",
       "  {'form': 'pójezdom', 'tags': ['romanization']}],\n",
       " 'senses': [{'raw_glosses': ['instrumental singular of по́езд (pójezd)'],\n",
       "   'glosses': ['instrumental singular of по́езд (pójezd)'],\n",
       "   'tags': ['form-of', 'instrumental', 'singular'],\n",
       "   'form_of': [{'word': 'по́езд', 'extra': 'pójezd'}],\n",
       "   'id': 'поездом-ru-noun--HD3.5KZ',\n",
       "   'categories': []}],\n",
       " 'meanings': None,\n",
       " 'accent': None,\n",
       " 'sounds': [{'ipa': '[ˈpo(j)ɪzdəm]'}],\n",
       " 'status': False,\n",
       " 'ipa': None,\n",
       " 'npipa': None,\n",
       " 'intipa': None}"
      ]
     },
     "execution_count": 10,
     "metadata": {},
     "output_type": "execute_result"
    }
   ],
   "source": [
    "# check of the func\n",
    "vars(find_item_from_dict(\"поездом\", wiki_instances)[0])"
   ]
  },
  {
   "cell_type": "markdown",
   "metadata": {
    "collapsed": false,
    "pycharm": {
     "name": "#%% md\n"
    }
   },
   "source": [
    "# Transformations"
   ]
  },
  {
   "cell_type": "markdown",
   "metadata": {
    "collapsed": false,
    "pycharm": {
     "name": "#%% md\n"
    }
   },
   "source": [
    "## low_case"
   ]
  },
  {
   "cell_type": "code",
   "execution_count": 11,
   "metadata": {
    "collapsed": false,
    "pycharm": {
     "name": "#%%\n"
    }
   },
   "outputs": [
    {
     "name": "stdout",
     "output_type": "stream",
     "text": [
      "4249\n",
      "['Израиль', 'Я', 'ГУЛАГ', 'Россия', 'КГБ', 'Смолян', 'По', 'По', 'Юпитер', 'СССР']\n"
     ]
    }
   ],
   "source": [
    "#inspecting\n",
    "words_upper_case = [item.word for item in wiki_instances \n",
    "                    if re.search(\"[А-Я]\", item.word)]\n",
    "print(len(words_upper_case))\n",
    "print(words_upper_case[0:10])"
   ]
  },
  {
   "cell_type": "code",
   "execution_count": 12,
   "metadata": {
    "collapsed": false,
    "pycharm": {
     "name": "#%%\n"
    }
   },
   "outputs": [],
   "source": [
    "#replacing\n",
    "def word2lowcase():\n",
    "  for item in wiki_instances:\n",
    "    setattr(item, \"word_lowcase\", item.word.lower())\n",
    "word2lowcase()"
   ]
  },
  {
   "cell_type": "code",
   "execution_count": 13,
   "metadata": {
    "collapsed": false,
    "pycharm": {
     "name": "#%%\n"
    }
   },
   "outputs": [
    {
     "name": "stdout",
     "output_type": "stream",
     "text": [
      "422821\n",
      "['бёрдо', 'масленица', 'узус', 'баской', 'баять', 'бортник', 'бочаг', 'уст.', 'браный', 'братыня']\n"
     ]
    }
   ],
   "source": [
    "#checking again\n",
    "words_low_case = [item.word_lowcase for item in wiki_instances]\n",
    "print(len(words_low_case))\n",
    "print(words_low_case[0:10])"
   ]
  },
  {
   "cell_type": "code",
   "execution_count": 14,
   "metadata": {
    "collapsed": false,
    "pycharm": {
     "name": "#%%\n"
    }
   },
   "outputs": [
    {
     "data": {
      "text/plain": [
       "'гулаг'"
      ]
     },
     "execution_count": 14,
     "metadata": {},
     "output_type": "execute_result"
    }
   ],
   "source": [
    "find_item_from_dict(\"ГУЛАГ\", wiki_instances)[0].word_lowcase"
   ]
  },
  {
   "cell_type": "markdown",
   "metadata": {
    "collapsed": false,
    "pycharm": {
     "name": "#%% md\n"
    }
   },
   "source": [
    "## IPA"
   ]
  },
  {
   "cell_type": "markdown",
   "metadata": {
    "collapsed": false,
    "pycharm": {
     "name": "#%% md\n"
    }
   },
   "source": [
    "### cleaning sound atr"
   ]
  },
  {
   "cell_type": "code",
   "execution_count": 15,
   "metadata": {
    "collapsed": false,
    "pycharm": {
     "name": "#%%\n"
    }
   },
   "outputs": [
    {
     "name": "stdout",
     "output_type": "stream",
     "text": [
      "420441\n",
      "[{'ipa': '[ˈbʲɵrdə]'}, {'ipa': '[ˈmas⁽ʲ⁾lʲɪnʲɪt͡sə]'}, {'ipa': '[ˈuzʊs]'}, {'ipa': '[bɐˈskoj]'}, {'ipa': '[ˈba(j)ɪtʲ]'}]\n"
     ]
    }
   ],
   "source": [
    "#inspecting\n",
    "words_wih_sounds  = [item.sounds[0] for item in wiki_instances \n",
    "                     if item.sounds and len(item.sounds) > 0]\n",
    "print(len(words_wih_sounds))\n",
    "print(words_wih_sounds[0:5])"
   ]
  },
  {
   "cell_type": "code",
   "execution_count": 16,
   "metadata": {
    "collapsed": false,
    "pycharm": {
     "name": "#%%\n"
    }
   },
   "outputs": [
    {
     "name": "stdout",
     "output_type": "stream",
     "text": [
      "261\n",
      "[{'ipa': '[ɛm]', 'tags': ['letter']}, {'ipa': '[ɛn]', 'tags': ['letter']}, {'ipa': '[o]', 'tags': ['stressed']}, {'ipa': '[p]', 'tags': ['phoneme']}, {'ipa': '[a]', 'tags': ['stressed']}]\n"
     ]
    }
   ],
   "source": [
    "words_with_only_ipa = [ipa for ipa in words_wih_sounds if len(ipa) != 1]\n",
    "print(len(words_with_only_ipa))\n",
    "print(words_with_only_ipa[0:5])"
   ]
  },
  {
   "cell_type": "code",
   "execution_count": 17,
   "metadata": {
    "collapsed": false,
    "pycharm": {
     "name": "#%%\n"
    }
   },
   "outputs": [],
   "source": [
    "#changing\n",
    "def sounds2ipa():\n",
    "  for item in wiki_instances:\n",
    "    if item.sounds != None and len(item.sounds) > 0:\n",
    "      setattr(item, \"sounds\", item.sounds[0])\n",
    "\n",
    "  for item in wiki_instances:  \n",
    "    if item.sounds != None and len(item.sounds) != 1:\n",
    "      setattr(item, \"sounds\", None)\n",
    "\n",
    "  for item in wiki_instances:\n",
    "    if item.sounds != None and \"ipa\" not in item.sounds.keys():\n",
    "      setattr(item, \"sounds\", None)\n",
    "\n",
    "sounds2ipa()"
   ]
  },
  {
   "cell_type": "code",
   "execution_count": 18,
   "metadata": {
    "collapsed": false,
    "pycharm": {
     "name": "#%%\n"
    }
   },
   "outputs": [
    {
     "data": {
      "text/plain": [
       "2643"
      ]
     },
     "execution_count": 18,
     "metadata": {},
     "output_type": "execute_result"
    }
   ],
   "source": [
    "# checking number of empty sounds attribute\n",
    "len([item for item in wiki_instances if item.sounds == None])"
   ]
  },
  {
   "cell_type": "code",
   "execution_count": 19,
   "metadata": {
    "collapsed": false,
    "pycharm": {
     "name": "#%%\n"
    }
   },
   "outputs": [
    {
     "name": "stdout",
     "output_type": "stream",
     "text": [
      "0\n",
      "[]\n"
     ]
    }
   ],
   "source": [
    "# final check: sounds_not_satisfying_conditions \n",
    "# expected 0\n",
    "sounds_not_satisfying_conditions  = [item.sounds for item in wiki_instances \n",
    "      if item.sounds and len(item.sounds) != 1 and \"ipa\" not in item.sounds.keys()]\n",
    "print(len(sounds_not_satisfying_conditions))\n",
    "print(sounds_not_satisfying_conditions[0:50])"
   ]
  },
  {
   "cell_type": "markdown",
   "metadata": {
    "collapsed": false,
    "pycharm": {
     "name": "#%% md\n"
    }
   },
   "source": [
    "### cleaning IPA from non-ipa characters"
   ]
  },
  {
   "cell_type": "code",
   "execution_count": 20,
   "metadata": {
    "collapsed": false,
    "pycharm": {
     "name": "#%%\n"
    }
   },
   "outputs": [
    {
     "name": "stdout",
     "output_type": "stream",
     "text": [
      "62\n",
      "{'⁾', '-', 'e', '|', 'ʑ', '̩', ')', 'ʂ', 'ɪ', 'ʕ', 'b', '[', 'ǀ', 'ʲ', 'ˑ', '.', 'i', 'ʉ', 'ɑ', 'k', 'n', 'ɛ', 'a', 'ɨ', '̠', 'ɵ', 'æ', 'v', '(', 't', 'ɫ', 'ɐ', 's', 'x', '̥', '/', 'u', ']', 'ʙ', '⁽', '͡', 'p', '‿', 'ɡ', 'ˈ', 'ʐ', 'ˌ', 'z', 'f', 'd', 'ː', 'r', 'ʔ', 'l', ' ', 'ɣ', 'm', 'ɕ', 'ə', 'ʊ', 'o', 'j'}\n"
     ]
    }
   ],
   "source": [
    "#getting all signs in ipa\n",
    "def get_all_unique_signs_in_ipa():\n",
    "  unique_ipa = set()\n",
    "  for item in wiki_instances:\n",
    "    if item.sounds:\n",
    "      trans = item.sounds[\"ipa\"]\n",
    "      trans = set(list(trans))\n",
    "      unique_ipa.update(trans)\n",
    "  return unique_ipa\n",
    "all_unique_signs_in_ipa = get_all_unique_signs_in_ipa()\n",
    "print(len(all_unique_signs_in_ipa))\n",
    "print(all_unique_signs_in_ipa)"
   ]
  },
  {
   "cell_type": "code",
   "execution_count": 21,
   "metadata": {
    "collapsed": false,
    "pycharm": {
     "name": "#%%\n"
    }
   },
   "outputs": [
    {
     "data": {
      "text/plain": [
       "['⁾', '-', ')', '[', '(', '/', ']', '⁽']"
      ]
     },
     "execution_count": 21,
     "metadata": {},
     "output_type": "execute_result"
    }
   ],
   "source": [
    "#getting all non ipa characters\n",
    "def get_all_non_ipa_signs(all_unique_signs_in_ipa):\n",
    "  all_non_ipa_signs = []\n",
    "  for ch in all_unique_signs_in_ipa:\n",
    "    if is_valid_ipa(ch) == False:\n",
    "      all_non_ipa_signs.append(ch)\n",
    "  return all_non_ipa_signs\n",
    "all_non_ipa_signs = get_all_non_ipa_signs(all_unique_signs_in_ipa)\n",
    "all_non_ipa_signs"
   ]
  },
  {
   "cell_type": "code",
   "execution_count": 22,
   "metadata": {
    "collapsed": false,
    "pycharm": {
     "name": "#%%\n"
    }
   },
   "outputs": [],
   "source": [
    "#removing exceptions\n",
    "all_non_ipa_signs = re.compile(\"\\]|\\/|\\⁾|\\(|\\⁽|\\[|\\)|\\-\")\n",
    "def remove_nonipa_from_ipa(\n",
    "  all_non_ipa_signs):\n",
    "  for item in wiki_instances: \n",
    "    if item.sounds != None:\n",
    "      #print(item.sounds[\"ipa\"])\n",
    "      attribute = item.sounds[\"ipa\"]\n",
    "      attribute = re.sub(all_non_ipa_signs, \"\", attribute)\n",
    "      setattr(item, \"sounds\", attribute)\n",
    "remove_nonipa_from_ipa(all_non_ipa_signs)"
   ]
  },
  {
   "cell_type": "code",
   "execution_count": 23,
   "metadata": {
    "collapsed": false,
    "pycharm": {
     "name": "#%%\n"
    }
   },
   "outputs": [
    {
     "data": {
      "text/plain": [
       "'ˌlʲesɐˈspusk'"
      ]
     },
     "execution_count": 23,
     "metadata": {},
     "output_type": "execute_result"
    }
   ],
   "source": [
    "wiki_instances[1003].sounds"
   ]
  },
  {
   "cell_type": "markdown",
   "metadata": {
    "collapsed": false,
    "pycharm": {
     "name": "#%% md\n"
    }
   },
   "source": [
    "## Accent"
   ]
  },
  {
   "cell_type": "code",
   "execution_count": 24,
   "metadata": {
    "collapsed": false,
    "pycharm": {
     "name": "#%%\n"
    }
   },
   "outputs": [],
   "source": [
    "# func to put a stress in the word by parsing its IPA transcription\n",
    "def put_accents_on_words():\n",
    "  vs_re = re.compile('а|я|о|е|ё|у|ю|э|ы|и|А|Я|О|Е|Ё|У|Ю|Э|Ы|И')\n",
    "  vs = 'аяоеёуюэыиАЯОЕЁУЮЭЫИ'\n",
    "\n",
    "  # getting only vowels\n",
    "  def get_IPA_vowels():\n",
    "    vowels_ipa = set()\n",
    "    for item in wiki_instances:\n",
    "      if item.sounds:\n",
    "        set_ipa = set(IPAString(unicode_string=item.sounds, ignore = True).vowels)\n",
    "        vowels_ipa.update(set_ipa)\n",
    "    return vowels_ipa\n",
    "  vowels_ipa = get_IPA_vowels()\n",
    "\n",
    "  for item in wiki_instances:\n",
    "    if item.sounds:     \n",
    "\n",
    "      # func to get an index of stress mark in the IPA sequence of vowels only\n",
    "      def get_index_of_stress_mark_among_vowels(IPA_transcription):\n",
    "        word_ipa = IPAString(unicode_string=IPA_transcription, ignore = True)\n",
    "        pat_ipa = []\n",
    "        for i, ipa_ch in enumerate(word_ipa):\n",
    "          if ipa_ch in vowels_ipa or ipa_ch == UNICODE_TO_IPA[u\"ˈ\"]:\n",
    "            pat_ipa.append(ipa_ch)\n",
    "        if pat_ipa == [] or re.search(vs_re, item.word) == None:\n",
    "          index_stress_among_vowels = []\n",
    "        else: \n",
    "          try: \n",
    "            # index_stress_among_vowels = pat_ipa.index(UNICODE_TO_IPA[u\"ˈ\"]) \n",
    "            index_stress_among_vowels = [i for i, ip in enumerate(pat_ipa) \n",
    "                                         if ip == UNICODE_TO_IPA[u\"ˈ\"]]\n",
    "            if index_stress_among_vowels == []:       \n",
    "              index_stress_among_vowels = list([0])\n",
    "          except:\n",
    "            index_stress_among_vowels = list([0])\n",
    "        return index_stress_among_vowels\n",
    "\n",
    "      IPA_transcription = item.sounds\n",
    "      index_stress_among_vowels = get_index_of_stress_mark_among_vowels(IPA_transcription)\n",
    "      \n",
    "      # func to put a stress mark to word\n",
    "      word = item.word_lowcase\n",
    "\n",
    "      def put_stress_on_word_by_index(word, index_stress_among_vowels):\n",
    "        index = 0\n",
    "        stressed_word = word\n",
    "        for ii, ind_of_stressed_vowel in enumerate(index_stress_among_vowels):\n",
    "          ind_of_stressed_vowel = ind_of_stressed_vowel - ii\n",
    "\n",
    "          n_of_vowel = -1\n",
    "\n",
    "          for i, ch in enumerate(stressed_word):\n",
    "            if ch in vs:\n",
    "              n_of_vowel += 1\n",
    "\n",
    "              if n_of_vowel == ind_of_stressed_vowel:\n",
    "                index = i+1\n",
    "                stressed_word = stressed_word[:index]+ \"'\" + stressed_word[index:]\n",
    "        return stressed_word \n",
    "\n",
    "      stressed_word = put_stress_on_word_by_index(word, index_stress_among_vowels)\n",
    "      item.accent = stressed_word\n",
    "put_accents_on_words()"
   ]
  },
  {
   "cell_type": "code",
   "execution_count": 25,
   "metadata": {
    "collapsed": false,
    "pycharm": {
     "name": "#%%\n"
    }
   },
   "outputs": [
    {
     "data": {
      "text/plain": [
       "2643"
      ]
     },
     "execution_count": 25,
     "metadata": {},
     "output_type": "execute_result"
    }
   ],
   "source": [
    "# get number of empty accent attributes\n",
    "len([i for i, item in enumerate(wiki_instances) if not item.accent])"
   ]
  },
  {
   "cell_type": "markdown",
   "metadata": {
    "collapsed": false,
    "pycharm": {
     "name": "#%% md\n"
    }
   },
   "source": [
    "## Pos"
   ]
  },
  {
   "cell_type": "markdown",
   "metadata": {
    "collapsed": false,
    "pycharm": {
     "name": "#%% md\n"
    }
   },
   "source": [
    "### get_freq_of_pos"
   ]
  },
  {
   "cell_type": "code",
   "execution_count": 26,
   "metadata": {
    "collapsed": false,
    "pycharm": {
     "name": "#%%\n"
    }
   },
   "outputs": [
    {
     "data": {
      "text/plain": [
       "noun              205020\n",
       "verb              195740\n",
       "adj                13745\n",
       "name                3151\n",
       "adv                 2287\n",
       "num                  690\n",
       "pron                 551\n",
       "intj                 380\n",
       "phrase               284\n",
       "suffix               233\n",
       "prefix               153\n",
       "prep                 139\n",
       "proverb              107\n",
       "conj                  95\n",
       "combining_form        83\n",
       "particle              59\n",
       "character             51\n",
       "det                   23\n",
       "prep_phrase           20\n",
       "interfix               5\n",
       "punct                  2\n",
       "symbol                 2\n",
       "ambiposition           1\n",
       "dtype: int64"
      ]
     },
     "execution_count": 26,
     "metadata": {},
     "output_type": "execute_result"
    }
   ],
   "source": [
    "def get_freq_of_pos():\n",
    "  list_of_pos = set(item.pos for item in wiki_instances)\n",
    "  freq_of_pos = dict()\n",
    "  for p in list_of_pos:\n",
    "    name = \"{}\".format(p)\n",
    "    items_pos = [item for item in wiki_instances if item.pos == p]\n",
    "    length = len(items_pos)\n",
    "    freq_of_pos[name] = length\n",
    "  return pd.Series(freq_of_pos).sort_values(ascending = False)\n",
    "freq_of_pos = get_freq_of_pos()\n",
    "freq_of_pos"
   ]
  },
  {
   "cell_type": "code",
   "execution_count": 27,
   "metadata": {
    "collapsed": false,
    "pycharm": {
     "name": "#%%\n"
    }
   },
   "outputs": [
    {
     "name": "stdout",
     "output_type": "stream",
     "text": [
      "ради None\n"
     ]
    }
   ],
   "source": [
    "name_of_pos = \"ambiposition\"\n",
    "list_of_words_with_pos = [item for item in wiki_instances if item.pos == name_of_pos]\n",
    "for i,item in enumerate(list_of_words_with_pos):\n",
    "  if i in range(0,50):\n",
    "    print(item.word, item.grammeme)"
   ]
  },
  {
   "cell_type": "markdown",
   "metadata": {
    "collapsed": false,
    "pycharm": {
     "name": "#%% md\n"
    }
   },
   "source": [
    "### pos: adv, intj"
   ]
  },
  {
   "cell_type": "code",
   "execution_count": 28,
   "metadata": {
    "collapsed": false,
    "pycharm": {
     "name": "#%%\n"
    }
   },
   "outputs": [],
   "source": [
    "#func to populate stem attribute with word_lowcase in adverbs \n",
    "def set_stem_for_pos():\n",
    "  for i, item in enumerate(wiki_instances):\n",
    "    if item.stem == None and (item.pos == \"adv\" \n",
    "                              or item.pos == \"prep\" \n",
    "                              or item.pos == \"conj\" \n",
    "                              or item.pos == \"particle\"):\n",
    "      item.stem = item.word_lowcase\n",
    "set_stem_for_pos()"
   ]
  },
  {
   "cell_type": "code",
   "execution_count": 29,
   "metadata": {},
   "outputs": [
    {
     "data": {
      "text/plain": [
       "'adv'"
      ]
     },
     "execution_count": 29,
     "metadata": {},
     "output_type": "execute_result"
    }
   ],
   "source": [
    "# check\n",
    "find_item_from_dict(\"пешком\", wiki_instances)[0].pos"
   ]
  },
  {
   "cell_type": "markdown",
   "metadata": {
    "collapsed": false,
    "pycharm": {
     "name": "#%% md\n"
    }
   },
   "source": [
    "## Grammemes"
   ]
  },
  {
   "cell_type": "markdown",
   "metadata": {
    "collapsed": false,
    "pycharm": {
     "name": "#%% md\n"
    }
   },
   "source": [
    "### grammemes: save, remove"
   ]
  },
  {
   "cell_type": "code",
   "execution_count": 30,
   "metadata": {
    "collapsed": false,
    "pycharm": {
     "name": "#%%\n"
    }
   },
   "outputs": [],
   "source": [
    "# downloading xlsx file with grammemes\n",
    "path_stat_gram = \"grammemes_statistics.xlsx\"\n",
    "gram_stat_done = pd.read_excel(path_stat_gram)"
   ]
  },
  {
   "cell_type": "code",
   "execution_count": 31,
   "metadata": {
    "collapsed": false,
    "pycharm": {
     "name": "#%%\n"
    }
   },
   "outputs": [
    {
     "data": {
      "text/html": [
       "<div>\n",
       "<style scoped>\n",
       "    .dataframe tbody tr th:only-of-type {\n",
       "        vertical-align: middle;\n",
       "    }\n",
       "\n",
       "    .dataframe tbody tr th {\n",
       "        vertical-align: top;\n",
       "    }\n",
       "\n",
       "    .dataframe thead th {\n",
       "        text-align: right;\n",
       "    }\n",
       "</style>\n",
       "<table border=\"1\" class=\"dataframe\">\n",
       "  <thead>\n",
       "    <tr style=\"text-align: right;\">\n",
       "      <th></th>\n",
       "      <th>grammeme</th>\n",
       "      <th>count</th>\n",
       "      <th>status</th>\n",
       "    </tr>\n",
       "  </thead>\n",
       "  <tbody>\n",
       "    <tr>\n",
       "      <th>0</th>\n",
       "      <td>iterative</td>\n",
       "      <td>1</td>\n",
       "      <td>NaN</td>\n",
       "    </tr>\n",
       "    <tr>\n",
       "      <th>1</th>\n",
       "      <td>regional</td>\n",
       "      <td>1</td>\n",
       "      <td>NaN</td>\n",
       "    </tr>\n",
       "    <tr>\n",
       "      <th>2</th>\n",
       "      <td>slur</td>\n",
       "      <td>1</td>\n",
       "      <td>NaN</td>\n",
       "    </tr>\n",
       "    <tr>\n",
       "      <th>3</th>\n",
       "      <td>literary</td>\n",
       "      <td>1</td>\n",
       "      <td>NaN</td>\n",
       "    </tr>\n",
       "    <tr>\n",
       "      <th>4</th>\n",
       "      <td>offensive</td>\n",
       "      <td>1</td>\n",
       "      <td>NaN</td>\n",
       "    </tr>\n",
       "    <tr>\n",
       "      <th>...</th>\n",
       "      <td>...</td>\n",
       "      <td>...</td>\n",
       "      <td>...</td>\n",
       "    </tr>\n",
       "    <tr>\n",
       "      <th>77</th>\n",
       "      <td>imperfective</td>\n",
       "      <td>97841</td>\n",
       "      <td>1.0</td>\n",
       "    </tr>\n",
       "    <tr>\n",
       "      <th>78</th>\n",
       "      <td>indicative</td>\n",
       "      <td>110234</td>\n",
       "      <td>1.0</td>\n",
       "    </tr>\n",
       "    <tr>\n",
       "      <th>79</th>\n",
       "      <td>plural</td>\n",
       "      <td>145627</td>\n",
       "      <td>1.0</td>\n",
       "    </tr>\n",
       "    <tr>\n",
       "      <th>80</th>\n",
       "      <td>singular</td>\n",
       "      <td>163451</td>\n",
       "      <td>1.0</td>\n",
       "    </tr>\n",
       "    <tr>\n",
       "      <th>81</th>\n",
       "      <td>form-of</td>\n",
       "      <td>356323</td>\n",
       "      <td>NaN</td>\n",
       "    </tr>\n",
       "  </tbody>\n",
       "</table>\n",
       "<p>82 rows × 3 columns</p>\n",
       "</div>"
      ],
      "text/plain": [
       "        grammeme   count  status\n",
       "0      iterative       1     NaN\n",
       "1       regional       1     NaN\n",
       "2           slur       1     NaN\n",
       "3       literary       1     NaN\n",
       "4      offensive       1     NaN\n",
       "..           ...     ...     ...\n",
       "77  imperfective   97841     1.0\n",
       "78    indicative  110234     1.0\n",
       "79        plural  145627     1.0\n",
       "80      singular  163451     1.0\n",
       "81       form-of  356323     NaN\n",
       "\n",
       "[82 rows x 3 columns]"
      ]
     },
     "execution_count": 31,
     "metadata": {},
     "output_type": "execute_result"
    }
   ],
   "source": [
    "gram_stat_done"
   ]
  },
  {
   "cell_type": "code",
   "execution_count": 32,
   "metadata": {
    "collapsed": false,
    "pycharm": {
     "name": "#%%\n"
    }
   },
   "outputs": [
    {
     "name": "stdout",
     "output_type": "stream",
     "text": [
      "57\n",
      "['iterative', 'regional', 'slur', 'literary', 'offensive', 'collective', 'contemporary', 'Ukraine', 'ethnic', 'uncommon', 'only', 'often', 'reflexive', 'sarcastic', 'with-genitive', 'pejorative', 'usually', 'informal', 'relative', 'empty-gloss', 'impersonal', 'possessive', 'adjectival', 'dialectal', 'morpheme', 'partitive', 'rare', 'obsolete', 'indeclinable', 'poetic', 'noun-from-verb', 'historical', 'vulgar', 'nonstandard', 'derogatory', 'uncountable', 'slang', 'proscribed', 'dated', 'demonstrative', 'abstract', 'verb', 'vocative', 'no-comparative', 'augmentative', 'plural-only', 'concrete', 'superlative', 'archaic', 'colloquial', 'comparative', 'endearing', 'diminutive', 'animate', 'inanimate', 'adverbial', 'form-of']\n"
     ]
    }
   ],
   "source": [
    "grammemes_to_remove = list(gram_stat_done[np.isnan(gram_stat_done[\"status\"])][\"grammeme\"])\n",
    "print(len(grammemes_to_remove))\n",
    "print(grammemes_to_remove)"
   ]
  },
  {
   "cell_type": "code",
   "execution_count": 33,
   "metadata": {
    "collapsed": false,
    "pycharm": {
     "name": "#%%\n"
    }
   },
   "outputs": [
    {
     "name": "stdout",
     "output_type": "stream",
     "text": [
      "25\n",
      "['locative', 'passive', 'neuter', 'nominative', 'masculine', 'feminine', 'active', 'imperative', 'accusative', 'first-person', 'third-person', 'future', 'prepositional', 'dative', 'genitive', 'participle', 'second-person', 'instrumental', 'present', 'past', 'perfective', 'imperfective', 'indicative', 'plural', 'singular']\n"
     ]
    }
   ],
   "source": [
    "grammemes_to_save = list(gram_stat_done[gram_stat_done[\"status\"] == 1.0][\"grammeme\"])\n",
    "print(len(grammemes_to_save))\n",
    "print(grammemes_to_save)\n"
   ]
  },
  {
   "cell_type": "markdown",
   "metadata": {
    "collapsed": false,
    "pycharm": {
     "name": "#%% md\n"
    }
   },
   "source": [
    "### item.senses[0][\"tags\"]"
   ]
  },
  {
   "cell_type": "code",
   "execution_count": 34,
   "metadata": {
    "collapsed": false,
    "pycharm": {
     "name": "#%%\n"
    }
   },
   "outputs": [],
   "source": [
    "#populating 356323 grammemes with item.senses[0][\"tags\"]\n",
    "def set_tag_grammemes():\n",
    "  for item in wiki_instances:\n",
    "    if item.grammeme == None and \"tags\" in item.senses[0].keys() and \"form-of\" in item.senses[0][\"tags\"]:\n",
    "      attribute = item.senses[0][\"tags\"]\n",
    "      [attribute.remove(gr) for gr in grammemes_to_remove if gr in attribute] \n",
    "      item.grammeme = attribute\n",
    "\n",
    "set_tag_grammemes()"
   ]
  },
  {
   "cell_type": "code",
   "execution_count": 35,
   "metadata": {
    "collapsed": false,
    "pycharm": {
     "name": "#%%\n"
    }
   },
   "outputs": [
    {
     "name": "stdout",
     "output_type": "stream",
     "text": [
      "353295\n",
      "[('как', ['genitive', 'plural']), ('лук', ['feminine', 'genitive', 'plural']), ('царица', ['feminine'])]\n"
     ]
    }
   ],
   "source": [
    "#checking\n",
    "n_of_populated_grammemes = [(item.word, item.grammeme)\n",
    "                            for item in wiki_instances if item.grammeme]\n",
    "print(len(n_of_populated_grammemes))\n",
    "print(n_of_populated_grammemes[0:3])"
   ]
  },
  {
   "cell_type": "code",
   "execution_count": 36,
   "metadata": {
    "collapsed": false,
    "pycharm": {
     "name": "#%%\n"
    }
   },
   "outputs": [
    {
     "data": {
      "text/plain": [
       "66498"
      ]
     },
     "execution_count": 36,
     "metadata": {},
     "output_type": "execute_result"
    }
   ],
   "source": [
    "# number of empty grammemes\n",
    "len([i for i, item in enumerate(wiki_instances) if item.grammeme == None])"
   ]
  },
  {
   "cell_type": "markdown",
   "metadata": {
    "collapsed": false,
    "pycharm": {
     "name": "#%% md\n"
    }
   },
   "source": [
    "### item.forms"
   ]
  },
  {
   "cell_type": "code",
   "execution_count": 37,
   "metadata": {
    "collapsed": false,
    "pycharm": {
     "name": "#%%\n"
    }
   },
   "outputs": [],
   "source": [
    "#func to populate None grammeme attributes with grammemes derived from tags in forms \n",
    "def set_form_grammemes():\n",
    "  for i, item in enumerate(wiki_instances):\n",
    "    \n",
    "    if item.forms and item.grammeme == None:\n",
    "      set_of_grs = set()\n",
    "      set_of_grs_list = []\n",
    "      \n",
    "      for f in item.forms: \n",
    "        word_form = re.sub('́', \"\", f[\"form\"]).lower()\n",
    "        if word_form == item.word.lower():\n",
    "          set_of_grs.update(f[\"tags\"])\n",
    "      for gr in set_of_grs:\n",
    "        if gr in grammemes_to_save:   \n",
    "          set_of_grs_list.append(gr)\n",
    "      \n",
    "      item.grammeme = set_of_grs_list\n",
    "    \n",
    "    if item.grammeme == []:\n",
    "      item.grammeme = None\n",
    "\n",
    "set_form_grammemes()"
   ]
  },
  {
   "cell_type": "code",
   "execution_count": 38,
   "metadata": {},
   "outputs": [
    {
     "data": {
      "text/plain": [
       "24070"
      ]
     },
     "execution_count": 38,
     "metadata": {},
     "output_type": "execute_result"
    }
   ],
   "source": [
    "# number of empty grammemes\n",
    "len([i for i, item in enumerate(wiki_instances) if item.grammeme == None])"
   ]
  },
  {
   "cell_type": "markdown",
   "metadata": {
    "collapsed": false,
    "pycharm": {
     "name": "#%% md\n"
    }
   },
   "source": [
    "### item.senses[0][\"glosses\"]"
   ]
  },
  {
   "cell_type": "code",
   "execution_count": 39,
   "metadata": {
    "collapsed": false,
    "pycharm": {
     "name": "#%%\n"
    }
   },
   "outputs": [],
   "source": [
    "# populating 22727 grammemes in item.senses[0][\"glosses\"]\n",
    "def set_senses_grammemes():\n",
    "  grammemes_to_save = list(gram_stat_done[gram_stat_done[\"status\"] == 1.0][\"grammeme\"])\n",
    "  for item in wiki_instances:\n",
    "    if item.grammeme == None:\n",
    "      if \"tags\" in item.senses[0].keys() and 'form-of' not in item.senses[0][\"tags\"] and 'glosses' in item.senses[0] and item.grammeme == None:\n",
    "        raw_grammeme = item.senses[0][\"glosses\"]\n",
    "        clean_gr = [gr for gr in grammemes_to_save if gr in raw_grammeme[0]]\n",
    "        if clean_gr != []:\n",
    "          item.grammeme = clean_gr\n",
    "        else:\n",
    "          item.grammeme = None\n",
    "set_senses_grammemes()"
   ]
  },
  {
   "cell_type": "code",
   "execution_count": 40,
   "metadata": {
    "collapsed": false,
    "pycharm": {
     "name": "#%%\n"
    }
   },
   "outputs": [
    {
     "data": {
      "text/plain": [
       "13777"
      ]
     },
     "execution_count": 40,
     "metadata": {},
     "output_type": "execute_result"
    }
   ],
   "source": [
    "# number of empty grammemes\n",
    "len([i for i, item in enumerate(wiki_instances) if item.grammeme == None])"
   ]
  },
  {
   "cell_type": "markdown",
   "metadata": {
    "collapsed": false,
    "pycharm": {
     "name": "#%% md\n"
    }
   },
   "source": [
    "### exceptions"
   ]
  },
  {
   "cell_type": "code",
   "execution_count": 41,
   "metadata": {
    "collapsed": false,
    "pycharm": {
     "name": "#%%\n"
    }
   },
   "outputs": [],
   "source": [
    "def get_words_with_no_grammemes(start, stop):\n",
    "  gr_excepts = [item for item in wiki_instances if item.grammeme == None]\n",
    "  for i, item in enumerate(gr_excepts):\n",
    "    if i in range(start,stop):\n",
    "      print(item.word, item.grammeme)\n",
    "  return gr_excepts"
   ]
  },
  {
   "cell_type": "code",
   "execution_count": 42,
   "metadata": {
    "collapsed": false,
    "pycharm": {
     "name": "#%%\n"
    }
   },
   "outputs": [
    {
     "name": "stdout",
     "output_type": "stream",
     "text": [
      "будь здоров None\n",
      "@ None\n",
      "всё-таки None\n",
      "всё-таки None\n",
      "дома None\n"
     ]
    }
   ],
   "source": [
    "gr_excepts = get_words_with_no_grammemes(100,105)"
   ]
  },
  {
   "cell_type": "markdown",
   "metadata": {
    "collapsed": false,
    "pycharm": {
     "name": "#%% md\n"
    }
   },
   "source": [
    "### sorting"
   ]
  },
  {
   "cell_type": "code",
   "execution_count": 43,
   "metadata": {
    "collapsed": false,
    "pycharm": {
     "name": "#%%\n"
    }
   },
   "outputs": [],
   "source": [
    "def sorting_grammemes():\n",
    "  for item in wiki_instances:\n",
    "    if item.grammeme !=None:\n",
    "      item.grammeme.sort()\n",
    "sorting_grammemes()"
   ]
  },
  {
   "cell_type": "markdown",
   "metadata": {
    "collapsed": false,
    "pycharm": {
     "name": "#%% md\n"
    }
   },
   "source": [
    "## Stems"
   ]
  },
  {
   "cell_type": "code",
   "execution_count": 44,
   "metadata": {
    "collapsed": false,
    "pycharm": {
     "name": "#%%\n"
    }
   },
   "outputs": [],
   "source": [
    "#setting all stems to None\n",
    "def set_stems_to_none():\n",
    "  for item in wiki_instances:\n",
    "    item.stem = None\n",
    "set_stems_to_none()"
   ]
  },
  {
   "cell_type": "markdown",
   "metadata": {
    "collapsed": false,
    "pycharm": {
     "name": "#%% md\n"
    }
   },
   "source": [
    "### get_populates_stems"
   ]
  },
  {
   "cell_type": "code",
   "execution_count": 45,
   "metadata": {
    "collapsed": false,
    "pycharm": {
     "name": "#%%\n"
    }
   },
   "outputs": [
    {
     "name": "stdout",
     "output_type": "stream",
     "text": [
      "0\n"
     ]
    }
   ],
   "source": [
    "#func to check number of populated stems: on -  361861, none - 60960\n",
    "def get_populated_stems():\n",
    "  list_of_stems = [(item.word_lowcase, item.stem) for item in wiki_instances if item.stem]\n",
    "  return list_of_stems\n",
    "list_of_stems = get_populated_stems()\n",
    "print(len(list_of_stems))"
   ]
  },
  {
   "cell_type": "markdown",
   "metadata": {
    "collapsed": false,
    "pycharm": {
     "name": "#%% md\n"
    }
   },
   "source": [
    "### n of dupes in wiki"
   ]
  },
  {
   "cell_type": "code",
   "execution_count": 46,
   "metadata": {
    "collapsed": false,
    "pycharm": {
     "name": "#%%\n"
    }
   },
   "outputs": [],
   "source": [
    "#func to get number of dupes in wiki \n",
    "def get_number_of_dupe_words_in_Dict():\n",
    "  dupes = []\n",
    "  unique = set()\n",
    "  for item in wiki_instances:\n",
    "    if item.word not in unique:\n",
    "      unique.add(item.word)\n",
    "    else:\n",
    "      dupes.append(item.word)\n",
    "  return dupes\n",
    "# dupes = get_number_of_dupe_words_in_Dict()\n",
    "# print(len(dupes)) "
   ]
  },
  {
   "cell_type": "markdown",
   "metadata": {
    "collapsed": false,
    "pycharm": {
     "name": "#%% md\n"
    }
   },
   "source": [
    "### derivatives"
   ]
  },
  {
   "cell_type": "code",
   "execution_count": 47,
   "metadata": {
    "collapsed": false,
    "pycharm": {
     "name": "#%%\n"
    }
   },
   "outputs": [
    {
     "data": {
      "text/plain": [
       "['instrumental singular of каба́н (kabán)']"
      ]
     },
     "execution_count": 47,
     "metadata": {},
     "output_type": "execute_result"
    }
   ],
   "source": [
    "find_item_from_dict(\"кабаном\", wiki_instances)[0].senses[0][\"glosses\"]"
   ]
  },
  {
   "cell_type": "code",
   "execution_count": 48,
   "metadata": {
    "collapsed": false,
    "pycharm": {
     "name": "#%%\n"
    }
   },
   "outputs": [
    {
     "data": {
      "text/plain": [
       "[{'raw_glosses': [\"(slang) female equivalent of тусо́вщик (tusóvščik): female who often attends hangouts (тусо́вка (tusóvka)), especially teenagers' hangouts\"],\n",
       "  'tags': ['feminine'],\n",
       "  'glosses': [\"female equivalent of тусо́вщик (tusóvščik): female who often attends hangouts (тусо́вка (tusóvka)), especially teenagers' hangouts\"],\n",
       "  'form_of': [{'word': 'тусо́вщик',\n",
       "    'extra': \"(tusóvščik): female who often attends hangouts (тусо́вка (tusóvka)), especially teenagers' hangouts\"}],\n",
       "  'id': 'тусовщица-ru-noun-Fw2FSwTg',\n",
       "  'categories': []},\n",
       " {'raw_glosses': ['(slang, figuratively) female who is a member of a coterie'],\n",
       "  'tags': ['figuratively', 'slang'],\n",
       "  'glosses': ['female who is a member of a coterie'],\n",
       "  'id': 'тусовщица-ru-noun-tIfaunty',\n",
       "  'categories': [{'name': 'Russian nouns with accent pattern a',\n",
       "    'kind': 'other',\n",
       "    'parents': [],\n",
       "    'source': 'w+disamb',\n",
       "    '_dis': '42 58'}]}]"
      ]
     },
     "execution_count": 48,
     "metadata": {},
     "output_type": "execute_result"
    }
   ],
   "source": [
    "random_item_senses = find_item_from_dict(\"тусовщица\", wiki_instances)[0].senses\n",
    "random_item_senses"
   ]
  },
  {
   "cell_type": "code",
   "execution_count": 49,
   "metadata": {
    "collapsed": false,
    "pycharm": {
     "name": "#%%\n"
    }
   },
   "outputs": [],
   "source": [
    "class SetStemForDerivatives:\n",
    "  @classmethod \n",
    "  def set_all_stems_to_none(cls):\n",
    "    for item in wiki_instances:\n",
    "      setattr(item, \"stem\", None)\n",
    "    return len([i for i, item in enumerate(wiki_instances) if item.stem == None])\n",
    "\n",
    "  @classmethod\n",
    "  def extract_stems_from_trash(cls):\n",
    "    for i, item in enumerate(wiki_instances):\n",
    "      list_of_senses = item.senses\n",
    "\n",
    "      for s in list_of_senses:\n",
    "        \n",
    "        if (\"glosses\" in s.keys() \\\n",
    "            and \"of\" in s[\"glosses\"][0]\n",
    "            and re.findall(\"-| \", item.word) == [] #words without whitespaces and -\n",
    "            and item.pos in (\"noun\",\"verb\",\"adj\",\"name\",\"adv\",\"num\",\"pron\") #only meaningful words\n",
    "            ): \n",
    "          \n",
    "          # substituting stress mark\n",
    "          stem_new = re.sub(\"́\", \"'\", s[\"glosses\"][0], count = 0) \n",
    "\n",
    "          # extracting only russian characters and \"-\", and white spaces\n",
    "          stem_new = ''.join(re.findall(\"[а-я]|[А-Я]|ё|Ё|'|-| \", stem_new))\n",
    "\n",
    "          # removing all white spaces before and after word\n",
    "          stem_new = re.sub(\"^\\s*\\W|\\s*$\", '', stem_new)\n",
    "\n",
    "          # lowcase  \n",
    "          stem_new = stem_new.lower()\n",
    "\n",
    "          # putting stress after \"ё\"\n",
    "          vs = list('аяоеёуюэыи')         \n",
    "          if \"'\" not in stem_new:\n",
    "            stem_new = re.sub(\"ё\",\"ё'\", stem_new)\n",
    "\n",
    "          # setting stem attributes\n",
    "          if stem_new != '':\n",
    "            item.stem = stem_new\n",
    "\n",
    "        else:\n",
    "          item.stem = None\n",
    "        \n",
    "      # remove all stems with \"-\" and white spaces\n",
    "      def remove_stems_with_blank_dash():\n",
    "        if item.stem and re.findall(\"-| \", item.stem):\n",
    "          item.stem = None\n",
    "      remove_stems_with_blank_dash()\n",
    "  \n",
    "\n",
    "    # func to put stress mark in one syllable word woithout stress mark\n",
    "    def put_stress_in_one_syllable_word(word):\n",
    "      vs = tuple('аяоеёуюэыи')\n",
    "\n",
    "      # func to get a number of vowels in word \n",
    "      def get_number_of_vowels_in_word(word):\n",
    "        def num_vs(vowel):\n",
    "          return word.count(vowel)\n",
    "        \n",
    "        list_of_vs_numbers = map(num_vs, vs)\n",
    "        number_of_vowels =  sum(list_of_vs_numbers)\n",
    "        return number_of_vowels\n",
    "      \n",
    "      number_of_vowels = get_number_of_vowels_in_word(word)\n",
    "\n",
    "      if \"'\" not in word and number_of_vowels == 1:\n",
    "        \n",
    "        def func_sub(vowel):\n",
    "          new_w = re.sub(vowel, vowel+\"'\", word)\n",
    "          return new_w\n",
    "\n",
    "        list_of_new_ws = map(func_sub, list(vs))\n",
    "        stressed_word = [a for a in list_of_new_ws if \"'\" in a][0]\n",
    "\n",
    "      else:\n",
    "        stressed_word = word\n",
    "\n",
    "      return stressed_word  \n",
    "\n",
    "    stressed_word = put_stress_in_one_syllable_word(item.stem)\n",
    "    item.stem = stressed_word \n",
    "\n",
    "    "
   ]
  },
  {
   "cell_type": "code",
   "execution_count": 50,
   "metadata": {
    "collapsed": false,
    "pycharm": {
     "name": "#%%\n"
    }
   },
   "outputs": [
    {
     "name": "stdout",
     "output_type": "stream",
     "text": [
      "422821\n"
     ]
    }
   ],
   "source": [
    "print(SetStemForDerivatives.set_all_stems_to_none())"
   ]
  },
  {
   "cell_type": "code",
   "execution_count": 51,
   "metadata": {
    "collapsed": false,
    "pycharm": {
     "name": "#%%\n"
    }
   },
   "outputs": [],
   "source": [
    "SetStemForDerivatives.extract_stems_from_trash()"
   ]
  },
  {
   "cell_type": "code",
   "execution_count": 52,
   "metadata": {
    "collapsed": false,
    "pycharm": {
     "name": "#%%\n"
    }
   },
   "outputs": [
    {
     "data": {
      "text/plain": [
       "163390"
      ]
     },
     "execution_count": 52,
     "metadata": {},
     "output_type": "execute_result"
    }
   ],
   "source": [
    "#number of non populated stems\n",
    "len([i for i, item in enumerate(wiki_instances) if item.stem == None]) "
   ]
  },
  {
   "cell_type": "code",
   "execution_count": 53,
   "metadata": {
    "collapsed": false,
    "pycharm": {
     "name": "#%%\n"
    }
   },
   "outputs": [
    {
     "name": "stdout",
     "output_type": "stream",
     "text": [
      "10\n"
     ]
    },
    {
     "data": {
      "text/plain": [
       "[('псе', 'noun', \"пё'с\"),\n",
       " ('БТР', 'noun', \"бронетранспортё'р\"),\n",
       " ('псы', 'noun', \"пё'с\"),\n",
       " ('рёв', 'noun', \"рё'ва\"),\n",
       " ('пса', 'noun', \"пё'с\"),\n",
       " ('псу', 'noun', \"пё'с\"),\n",
       " ('нёб', 'noun', \"нё'бо\"),\n",
       " ('тёщ', 'noun', \"тё'ща\"),\n",
       " ('ежу', 'noun', \"ё'ж\"),\n",
       " ('еже', 'noun', \"ё'ж\")]"
      ]
     },
     "execution_count": 53,
     "metadata": {},
     "output_type": "execute_result"
    }
   ],
   "source": [
    "def get_stem_with_defined_pat(pat):\n",
    "  pat = re.compile(pat)\n",
    "  stem_with_defined_pat = [(item.word, item.pos, item.stem) \\\n",
    "                            for item in wiki_instances \n",
    "                            if item.stem \n",
    "                            and re.findall(pat, item.stem) != []\n",
    "                            and len(item.word) == 3\n",
    "                           ]\n",
    "  return stem_with_defined_pat\n",
    "stem_with_defined_pat = get_stem_with_defined_pat(\"ё\")\n",
    "print(len(stem_with_defined_pat))\n",
    "stem_with_defined_pat[0:10]"
   ]
  },
  {
   "cell_type": "code",
   "execution_count": 54,
   "metadata": {
    "collapsed": false,
    "pycharm": {
     "name": "#%%\n"
    }
   },
   "outputs": [
    {
     "name": "stdout",
     "output_type": "stream",
     "text": [
      "10\n"
     ]
    },
    {
     "data": {
      "text/plain": [
       "[('видеодисплею', None),\n",
       " ('разоблачило', \"разоблачи'ть\"),\n",
       " ('выпасают', None),\n",
       " ('выпололо', \"вы'полоть\"),\n",
       " ('симптомам', \"симпто'м\"),\n",
       " ('полисом', \"по'лис\"),\n",
       " ('отдуются', None),\n",
       " ('отлитый', \"отли'ть\"),\n",
       " ('сглаживая', \"сгла'живать\"),\n",
       " ('ракету-носитель', None)]"
      ]
     },
     "execution_count": 54,
     "metadata": {},
     "output_type": "execute_result"
    }
   ],
   "source": [
    "def get_random_stems(number_of_stems_to_return):\n",
    "  import random \n",
    "  rns = [random.randint(0,len(wiki_instances)) for i in range(number_of_stems_to_return)]\n",
    "  print(len(rns))\n",
    "  random_stems = [(item.word, item.stem) for i, item in enumerate(wiki_instances) if i in rns]\n",
    "  return random_stems\n",
    "get_random_stems(10)"
   ]
  },
  {
   "cell_type": "markdown",
   "metadata": {
    "collapsed": false,
    "pycharm": {
     "name": "#%% md\n"
    }
   },
   "source": [
    "### nominative, canonical"
   ]
  },
  {
   "cell_type": "code",
   "execution_count": 55,
   "metadata": {
    "collapsed": false,
    "pycharm": {
     "name": "#%%\n"
    }
   },
   "outputs": [
    {
     "data": {
      "text/plain": [
       "13777"
      ]
     },
     "execution_count": 55,
     "metadata": {},
     "output_type": "execute_result"
    }
   ],
   "source": [
    "#number of non populated grammemes\n",
    "len([i for i, item in enumerate(wiki_instances) if item.grammeme == None]) "
   ]
  },
  {
   "cell_type": "code",
   "execution_count": 56,
   "metadata": {
    "collapsed": false,
    "pycharm": {
     "name": "#%%\n"
    }
   },
   "outputs": [
    {
     "name": "stdout",
     "output_type": "stream",
     "text": [
      "33708\n"
     ]
    },
    {
     "data": {
      "text/plain": [
       "[('бёрдо', None, ['accusative', 'nominative', 'singular']),\n",
       " ('масленица', None, ['feminine', 'nominative', 'singular']),\n",
       " ('узус', None, ['accusative', 'masculine', 'nominative', 'singular']),\n",
       " ('баской',\n",
       "  None,\n",
       "  ['accusative',\n",
       "   'dative',\n",
       "   'feminine',\n",
       "   'genitive',\n",
       "   'instrumental',\n",
       "   'masculine',\n",
       "   'nominative',\n",
       "   'prepositional']),\n",
       " ('бортник', None, ['masculine', 'nominative', 'singular']),\n",
       " ('бочаг', None, ['accusative', 'masculine', 'nominative', 'singular']),\n",
       " ('браный', None, ['accusative', 'masculine', 'nominative']),\n",
       " ('брашно', None, ['accusative', 'neuter', 'nominative', 'singular']),\n",
       " ('бредень', None, ['accusative', 'masculine', 'nominative', 'singular']),\n",
       " ('бредник', None, ['accusative', 'masculine', 'nominative', 'singular'])]"
      ]
     },
     "execution_count": 56,
     "metadata": {},
     "output_type": "execute_result"
    }
   ],
   "source": [
    "items_for_canonical = [(item.word, item.stem, item.grammeme)\n",
    "                       for item in wiki_instances if item.stem == None\n",
    "                       and item.grammeme \n",
    "                       and set((\"canonical\", \"nominative\")) & set(item.grammeme)]\n",
    "print(len(items_for_canonical))\n",
    "items_for_canonical[0:10]"
   ]
  },
  {
   "cell_type": "code",
   "execution_count": 57,
   "metadata": {
    "collapsed": false,
    "pycharm": {
     "name": "#%%\n"
    }
   },
   "outputs": [],
   "source": [
    "# func to populate stem attribute with word_lowcase in canonical words and nominative cases\n",
    "def set_stem_for_canonical():\n",
    "  for item in wiki_instances:\n",
    "    if item.stem == None and item.grammeme != None:\n",
    "      if \"canonical\" or \"nominative\" in item.grammeme:\n",
    "        item.stem = item.accent\n",
    "set_stem_for_canonical()"
   ]
  },
  {
   "cell_type": "code",
   "execution_count": 58,
   "metadata": {
    "collapsed": false,
    "pycharm": {
     "name": "#%%\n"
    }
   },
   "outputs": [
    {
     "data": {
      "text/plain": [
       "6774"
      ]
     },
     "execution_count": 58,
     "metadata": {},
     "output_type": "execute_result"
    }
   ],
   "source": [
    "#number of non populated stems\n",
    "len([i for i, item in enumerate(wiki_instances) if item.stem == None]) "
   ]
  },
  {
   "cell_type": "code",
   "execution_count": 59,
   "metadata": {
    "collapsed": false,
    "pycharm": {
     "name": "#%%\n"
    }
   },
   "outputs": [
    {
     "name": "stdout",
     "output_type": "stream",
     "text": [
      "0\n"
     ]
    },
    {
     "data": {
      "text/plain": [
       "[]"
      ]
     },
     "execution_count": 59,
     "metadata": {},
     "output_type": "execute_result"
    }
   ],
   "source": [
    "def get_sample_of_unpopulated_stems(sample):\n",
    "  random_numbers = [random.randint(0, len(wiki_instances)) for i in range(sample)]\n",
    "  list_of_unpopulated_stems = [(item.word_lowcase, item.stem) \n",
    "                               for i,item in enumerate(wiki_instances) \n",
    "                               if item.stem == None\n",
    "                               and i in random_numbers]\n",
    "  return list_of_unpopulated_stems\n",
    "list_of_unpopulated_stems = get_sample_of_unpopulated_stems(20)\n",
    "print(len(list_of_unpopulated_stems))\n",
    "list_of_unpopulated_stems"
   ]
  },
  {
   "cell_type": "markdown",
   "metadata": {
    "collapsed": false,
    "pycharm": {
     "name": "#%% md\n"
    }
   },
   "source": [
    "## Senses"
   ]
  },
  {
   "cell_type": "code",
   "execution_count": 60,
   "metadata": {
    "collapsed": false,
    "pycharm": {
     "name": "#%%\n"
    }
   },
   "outputs": [
    {
     "data": {
      "text/plain": [
       "['instrumental singular of ключ (ključ)']"
      ]
     },
     "execution_count": 60,
     "metadata": {},
     "output_type": "execute_result"
    }
   ],
   "source": [
    "find_item_from_dict(\"ключом\", wiki_instances)[0].senses[0][\"glosses\"]"
   ]
  },
  {
   "cell_type": "code",
   "execution_count": 61,
   "metadata": {
    "collapsed": false,
    "pycharm": {
     "name": "#%%\n"
    }
   },
   "outputs": [
    {
     "data": {
      "text/plain": [
       "'clue, key'"
      ]
     },
     "execution_count": 61,
     "metadata": {},
     "output_type": "execute_result"
    }
   ],
   "source": [
    "find_item_from_dict(\"ключ\", wiki_instances)[0].senses[2][\"glosses\"][0]"
   ]
  },
  {
   "cell_type": "code",
   "execution_count": 62,
   "metadata": {
    "collapsed": false,
    "pycharm": {
     "name": "#%%\n"
    }
   },
   "outputs": [
    {
     "data": {
      "text/plain": [
       "dict_keys(['raw_glosses', 'tags', 'glosses', 'id'])"
      ]
     },
     "execution_count": 62,
     "metadata": {},
     "output_type": "execute_result"
    }
   ],
   "source": [
    "find_item_from_dict(\"ключ\", wiki_instances)[0].senses[0].keys()"
   ]
  },
  {
   "cell_type": "code",
   "execution_count": 63,
   "metadata": {
    "collapsed": false,
    "pycharm": {
     "name": "#%%\n"
    }
   },
   "outputs": [],
   "source": [
    "def set_meanings():\n",
    "  for i, item in enumerate(wiki_instances):\n",
    "    list_of_meanings = []\n",
    "    \n",
    "    for sns in item.senses:\n",
    "      if \"glosses\" in sns.keys(): \n",
    "        mng = sns[\"glosses\"]\n",
    "        list_of_meanings.append(mng)\n",
    "    \n",
    "    item.meanings = list_of_meanings\n",
    "set_meanings()"
   ]
  },
  {
   "cell_type": "code",
   "execution_count": 64,
   "metadata": {
    "collapsed": false,
    "pycharm": {
     "name": "#%%\n"
    }
   },
   "outputs": [
    {
     "data": {
      "text/plain": [
       "[['key'],\n",
       " ['wrench, spanner, screw wrench'],\n",
       " ['clue, key'],\n",
       " ['clef, key'],\n",
       " ['radical (in Chinese characters)']]"
      ]
     },
     "execution_count": 64,
     "metadata": {},
     "output_type": "execute_result"
    }
   ],
   "source": [
    "find_item_from_dict(\"ключ\", wiki_instances)[0].meanings"
   ]
  },
  {
   "cell_type": "markdown",
   "metadata": {
    "collapsed": false,
    "pycharm": {
     "name": "#%% md\n"
    }
   },
   "source": [
    "## ipa_shorten_for_rhyme"
   ]
  },
  {
   "cell_type": "markdown",
   "metadata": {
    "collapsed": false,
    "pycharm": {
     "name": "#%% md\n"
    }
   },
   "source": [
    "### get_unique_ipa"
   ]
  },
  {
   "cell_type": "code",
   "execution_count": 65,
   "metadata": {
    "collapsed": false,
    "pycharm": {
     "name": "#%%\n"
    }
   },
   "outputs": [
    {
     "name": "stdout",
     "output_type": "stream",
     "text": [
      "[' ', '.', 'a', 'b', 'bʲ', 'bʲː', 'bː', 'd', 'dʲ', 'dʲː', 'dː', 'd͡z', 'd͡zʲ', 'd͡ʑ', 'e', 'f', 'fʲ', 'fʲː', 'i', 'j', 'jː', 'k', 'kʲ', 'kʲː', 'kː', 'lʲ', 'lʲː', 'lˠ', 'lˠː', 'm', 'mʲ', 'mʲː', 'mː', 'm̥', 'n', 'nʲ', 'nʲː', 'nː', 'o', 'p', 'pʲ', 'pʲː', 'pː', 'r', 'rʲ', 'rʲː', 'rː', 's', 'sʲ', 'sʲː', 'sː', 't', 'tʲ', 'tʲː', 'tː', 't͡s', 't͡sʲ', 't͡sː', 't͡ɕ', 't͡ɕː', 'u', 'v', 'vʲ', 'vʲː', 'vː', 'x', 'xʲ', 'z', 'zʲ', 'zʲː', 'zː', '|', 'æ', 'ǀ', 'ɐ', 'ɑ', 'ɕ', 'ɕː', 'ɖ͡ʐ', 'ə', 'ɛ', 'ɡ', 'ɡʲ', 'ɡː', 'ɣ', 'ɨ', 'ɪ', 'ɵ', 'ʂ', 'ʂː', 'ʈ͡ʂ', 'ʉ', 'ʊ', 'ʐ', 'ʐː', 'ʑː', 'ʔ', 'ʕ', 'ʙ', 'ʲ', 'ˈ', 'ˌ', 'ː', 'ˑ', '̠', '̩', '͡', '‿']\n"
     ]
    }
   ],
   "source": [
    "def get_unique_ipa():  \n",
    "  all_signs = set()\n",
    "  for item in wiki_instances:\n",
    "    #if item.status == True:\n",
    "    value = IPAString(unicode_string=item.sounds, ignore = True)          \n",
    "    for ch in value:\n",
    "      all_signs.add(ch)\n",
    "  list_unique_ipas = [ipa_ch for ipa_ch in list(all_signs)]\n",
    "  list_unique_unicodes = [str(ip) for ip in list_unique_ipas]\n",
    "  list_unique_unicodes.sort()\n",
    "  return list_unique_unicodes\n",
    "\n",
    "list_unique_unicodes = get_unique_ipa()\n",
    "print(list_unique_unicodes)"
   ]
  },
  {
   "cell_type": "code",
   "execution_count": 66,
   "metadata": {
    "collapsed": false,
    "pycharm": {
     "name": "#%%\n"
    }
   },
   "outputs": [
    {
     "name": "stdout",
     "output_type": "stream",
     "text": [
      "208\n",
      "[('жалить', 'ˈʐalʲɪtʲ'), ('ужалить', 'ʊˈʐalʲɪtʲ'), ('жаль', 'ʐalʲ'), ('жаль', 'ʐalʲ'), ('лежали', 'lʲɪˈʐalʲɪ')]\n"
     ]
    }
   ],
   "source": [
    "def find_sounds_with_pat(pat_find): \n",
    "  pat_find = IPAString(unicode_string = pat_find).ipa_chars\n",
    "  list_matches = []\n",
    "  for item in wiki_instances:\n",
    "    where = IPAString(unicode_string = item.sounds).ipa_chars \n",
    "    for i,p in enumerate(where):\n",
    "      try:\n",
    "        if pat_find[0] == p:\n",
    "          match = [p]\n",
    "          for ii in range(len(pat_find)):\n",
    "            if where[i+ii+1] == pat_find[ii+1]:\n",
    "              match.append(where[i+ii+1])\n",
    "              if len(match) == len(pat_find):\n",
    "                list_matches.append((item.word, item.sounds))\n",
    "      except IndexError:\n",
    "        pass\n",
    "  return list_matches  \n",
    "\n",
    "pat_find = \"ʐalʲ\"\n",
    "list_matches = find_sounds_with_pat(pat_find)\n",
    "print(len(list_matches))\n",
    "print(list_matches[0:5])"
   ]
  },
  {
   "cell_type": "markdown",
   "metadata": {
    "collapsed": false,
    "pycharm": {
     "name": "#%% md\n"
    }
   },
   "source": [
    "### select items"
   ]
  },
  {
   "cell_type": "code",
   "execution_count": 67,
   "metadata": {
    "collapsed": false,
    "pycharm": {
     "name": "#%%\n"
    }
   },
   "outputs": [],
   "source": [
    "def set_all_attributes_to_false():\n",
    "  for item in wiki_instances:\n",
    "    setattr(item, \"status\", False)"
   ]
  },
  {
   "cell_type": "code",
   "execution_count": 68,
   "metadata": {
    "collapsed": false,
    "pycharm": {
     "name": "#%%\n"
    }
   },
   "outputs": [
    {
     "name": "stdout",
     "output_type": "stream",
     "text": [
      "[' ', '.', 'a', 'b', 'bʲ', 'bʲː', 'bː', 'd', 'dʲ', 'dʲː', 'dː', 'd͡z', 'd͡zʲ', 'd͡ʑ', 'e', 'f', 'fʲ', 'fʲː', 'i', 'j', 'jː', 'k', 'kʲ', 'kʲː', 'kː', 'lʲ', 'lʲː', 'lˠ', 'lˠː', 'm', 'mʲ', 'mʲː', 'mː', 'm̥', 'n', 'nʲ', 'nʲː', 'nː', 'o', 'p', 'pʲ', 'pʲː', 'pː', 'r', 'rʲ', 'rʲː', 'rː', 's', 'sʲ', 'sʲː', 'sː', 't', 'tʲ', 'tʲː', 'tː', 't͡s', 't͡sʲ', 't͡sː', 't͡ɕ', 't͡ɕː', 'u', 'v', 'vʲ', 'vʲː', 'vː', 'x', 'xʲ', 'z', 'zʲ', 'zʲː', 'zː', '|', 'æ', 'ǀ', 'ɐ', 'ɑ', 'ɕ', 'ɕː', 'ɖ͡ʐ', 'ə', 'ɛ', 'ɡ', 'ɡʲ', 'ɡː', 'ɣ', 'ɨ', 'ɪ', 'ɵ', 'ʂ', 'ʂː', 'ʈ͡ʂ', 'ʉ', 'ʊ', 'ʐ', 'ʐː', 'ʑː', 'ʔ', 'ʕ', 'ʙ', 'ʲ', 'ˈ', 'ˌ', 'ː', 'ˑ', '̠', '̩', '͡', '‿']\n"
     ]
    }
   ],
   "source": [
    "print(list_unique_unicodes)"
   ]
  },
  {
   "cell_type": "code",
   "execution_count": 69,
   "metadata": {
    "collapsed": false,
    "pycharm": {
     "name": "#%%\n"
    }
   },
   "outputs": [
    {
     "data": {
      "text/plain": [
       "395692"
      ]
     },
     "execution_count": 69,
     "metadata": {},
     "output_type": "execute_result"
    }
   ],
   "source": [
    "def select_words_for_ipa_shortening():\n",
    "  set_all_attributes_to_false()\n",
    "  pat_only_simple_words =  re.compile(\"[^а-я|А-Я|ё|Ё|'|-]\")\n",
    "  ipa_characters_to_remove = [UNICODE_TO_IPA[u\"ɣ\"], \n",
    "                              UNICODE_TO_IPA[u\"‿\"],\n",
    "                              UNICODE_TO_IPA[u'|'],\n",
    "                              UNICODE_TO_IPA[u'ǀ'],\n",
    "                              UNICODE_TO_IPA[u\"ɖ͡ʐ\"],\n",
    "                              UNICODE_TO_IPA[u\"ɑ\"],\n",
    "                              UNICODE_TO_IPA[u\".\"],\n",
    "                              UNICODE_TO_IPA[u\"ʑ\"],\n",
    "                              UNICODE_TO_IPA[u\"ˌ\"],\n",
    "                              UNICODE_TO_IPA[u\"ʔ\"],\n",
    "                              UNICODE_TO_IPA[u\"ʕ\"],\n",
    "                              UNICODE_TO_IPA[u\" \"],\n",
    "                              UNICODE_TO_IPA[u\"m̥\"],\n",
    "                              UNICODE_TO_IPA[u'̩'],\n",
    "                              UNICODE_TO_IPA[u\"ː\"]]\n",
    "  pos_to_remain = (\"noun\", \"verb\", \"adj\", \"name\", \"adv\", \n",
    "                   \"num\", \"pron\", \"intj\", \"prep\", \"conj\", \n",
    "                   \"particle\", \"det\", \"ambiposition\") \n",
    "\n",
    "  words_for_ipa_shortening = len([setattr(item, \"status\", True) for item in wiki_instances \n",
    "                          if item.sounds \n",
    "                          and item.accent\n",
    "                          and re.search(pat_only_simple_words, item.accent) == None\n",
    "                          and item.pos in pos_to_remain \n",
    "                          and item.word not in [\"лахмаджун\", \"МГУ\", \"тпру\"]\n",
    "                          and set(ipa_characters_to_remove) & set(IPAString(unicode_string = item.sounds)) == set()])\n",
    "              \n",
    "  return words_for_ipa_shortening\n",
    "words_for_ipa_shortening = select_words_for_ipa_shortening()\n",
    "words_for_ipa_shortening\n"
   ]
  },
  {
   "cell_type": "code",
   "execution_count": 70,
   "metadata": {
    "collapsed": false,
    "pycharm": {
     "name": "#%%\n"
    }
   },
   "outputs": [
    {
     "name": "stdout",
     "output_type": "stream",
     "text": [
      "['a', 'b', 'bʲ', 'bʲː', 'bː', 'd', 'dʲ', 'dʲː', 'dː', 'd͡z', 'd͡zʲ', 'e', 'f', 'fʲ', 'fʲː', 'i', 'j', 'jː', 'k', 'kʲ', 'kʲː', 'kː', 'lʲ', 'lʲː', 'lˠ', 'lˠː', 'm', 'mʲ', 'mʲː', 'mː', 'n', 'nʲ', 'nʲː', 'nː', 'o', 'p', 'pʲ', 'pʲː', 'pː', 'r', 'rʲ', 'rʲː', 'rː', 's', 'sʲ', 'sʲː', 'sː', 't', 'tʲ', 'tʲː', 'tː', 't͡s', 't͡sʲ', 't͡sː', 't͡ɕ', 't͡ɕː', 'u', 'v', 'vʲ', 'vʲː', 'vː', 'x', 'xʲ', 'z', 'zʲ', 'zʲː', 'zː', 'æ', 'ɐ', 'ɕ', 'ɕː', 'ə', 'ɛ', 'ɡ', 'ɡʲ', 'ɡː', 'ɨ', 'ɪ', 'ɵ', 'ʂ', 'ʂː', 'ʈ͡ʂ', 'ʉ', 'ʊ', 'ʐ', 'ʐː', 'ʑː', 'ˈ']\n"
     ]
    }
   ],
   "source": [
    "def get_unique_ipa_true():  \n",
    "  all_signs = set()\n",
    "  for item in wiki_instances:\n",
    "    if item.status:\n",
    "      value = IPAString(unicode_string=item.sounds, ignore = True)          \n",
    "      for ch in value:\n",
    "        all_signs.add(ch)\n",
    "  list_unique_ipas_true = [ipa_ch for ipa_ch in list(all_signs)]\n",
    "  list_unique_unicodes_true = [str(ip) for ip in list_unique_ipas_true]\n",
    "  list_unique_unicodes_true.sort()\n",
    "  return list_unique_unicodes_true\n",
    "\n",
    "list_unique_unicodes_true = get_unique_ipa_true()\n",
    "print(list_unique_unicodes_true)"
   ]
  },
  {
   "cell_type": "code",
   "execution_count": 71,
   "metadata": {
    "collapsed": false,
    "pycharm": {
     "name": "#%%\n"
    }
   },
   "outputs": [
    {
     "name": "stdout",
     "output_type": "stream",
     "text": [
      "395692\n"
     ]
    }
   ],
   "source": [
    "def get_number_of_items_with_true_status():\n",
    "  number_of_items_with_true_status = len([1 for item in wiki_instances if item.status])\n",
    "  return number_of_items_with_true_status\n",
    "print(get_number_of_items_with_true_status())"
   ]
  },
  {
   "cell_type": "markdown",
   "metadata": {
    "collapsed": false,
    "pycharm": {
     "name": "#%% md\n"
    }
   },
   "source": [
    "### shortenning"
   ]
  },
  {
   "cell_type": "code",
   "execution_count": 72,
   "metadata": {
    "collapsed": false,
    "pycharm": {
     "name": "#%%\n"
    }
   },
   "outputs": [
    {
     "name": "stdout",
     "output_type": "stream",
     "text": [
      "kɫok\n"
     ]
    },
    {
     "data": {
      "text/plain": [
       "alveolar consonant lateral-approximant velarized voiced\n",
       "back close-mid rounded vowel\n",
       "consonant plosive velar voiceless"
      ]
     },
     "execution_count": 72,
     "metadata": {},
     "output_type": "execute_result"
    }
   ],
   "source": [
    "#func to shorten ipa by scheme: one consonant before stressed vowel (if available)\n",
    "#stressed vowel + the rest of characters to the end of word\n",
    "#e.g. ipa ʂɨpʲɪˈlʲævʲɪtʲ shorened to lʲævʲɪtʲ\n",
    "stress_as_uni = 'ˈ'\n",
    "stress_as_ipa = UNICODE_TO_IPA[stress_as_uni]\n",
    "palat_uni = 'ʲ'\n",
    "palat_ipa = UNICODE_TO_IPA[palat_uni]\n",
    "\n",
    "def get_ipa_shortened(trans_uni):  \n",
    "  trans_ipa = IPAString(unicode_string = trans_uni)\n",
    "  def shorten_word_without_stress(trans_ipa):\n",
    "  #first vowel or first single consonant\n",
    "    if \"vowel\" in trans_ipa[0].name or \\\n",
    "    (\"consonant\" in trans_ipa[0].name and \"vowel\" in trans_ipa[1].name):\n",
    "      ipa_short = trans_ipa\n",
    "    #more than one initial consonants\n",
    "    else:\n",
    "      first_vowel = trans_ipa.vowels[0]\n",
    "      index_of_first_vowel = trans_ipa.index(first_vowel)\n",
    "      ipa_short = trans_ipa[index_of_first_vowel-1:]\n",
    "      \n",
    "      if ipa_short[0] == palat_ipa:\n",
    "        ipa_short = trans_ipa[index_of_first_vowel-2:]    \n",
    "    return ipa_short\n",
    "  \n",
    "  \n",
    "  def shorten_all_variants(trans_ipa):\n",
    "    #no stress\n",
    "    if stress_as_ipa not in trans_ipa:\n",
    "      ipa_short = shorten_word_without_stress(trans_ipa)\n",
    "    #with stress\n",
    "    else:\n",
    "      index_of_last_stress = trans_ipa[::-1].index(stress_as_ipa)\n",
    "      ipa_after_last_stress = trans_ipa[-index_of_last_stress:]\n",
    "      ipa_after_last_stress = IPAString(ipa_chars = ipa_after_last_stress)\n",
    "      ipa_short = shorten_word_without_stress(ipa_after_last_stress)\n",
    "  \n",
    "    return ipa_short\n",
    "  \n",
    "  #exception for single consonant words \n",
    "  try:\n",
    "    ipa_short = shorten_all_variants(trans_ipa)\n",
    "    \n",
    "    #convert list type to IPA\n",
    "    if type(ipa_short) == list:\n",
    "      ipa_short = IPAString(ipa_chars = ipa_short)  \n",
    "    \n",
    "    return ipa_short  \n",
    "  \n",
    "  except IndexError:\n",
    "    ipa_short = None\n",
    "  \n",
    "  \n",
    "\n",
    "trans_uni = find_item_from_dict(\"клок\", wiki_instances)[0].sounds\n",
    "print(trans_uni)\n",
    "ipa_short = get_ipa_shortened(trans_uni)\n",
    "ipa_short\n",
    "#print(''.join(map(lambda x: str(x), ipa_short)))     "
   ]
  },
  {
   "cell_type": "code",
   "execution_count": 73,
   "metadata": {
    "collapsed": false,
    "pycharm": {
     "name": "#%%\n"
    }
   },
   "outputs": [
    {
     "data": {
      "text/plain": [
       "395692"
      ]
     },
     "execution_count": 73,
     "metadata": {},
     "output_type": "execute_result"
    }
   ],
   "source": [
    "def all_ipa_shortened(): \n",
    "\n",
    "  def set_all_ipa_none():\n",
    "    for item in wiki_instances:\n",
    "      setattr(item, \"ipa\", None)  \n",
    "  set_all_ipa_none()\n",
    "  \n",
    "  n_of_ipa_set = 0\n",
    "  for item in wiki_instances:\n",
    "    if item.status:\n",
    "      setattr(item, \"ipa\", get_ipa_shortened(item.sounds))\n",
    "      n_of_ipa_set += 1\n",
    "  return n_of_ipa_set\n",
    "\n",
    "all_ipa_shortened()"
   ]
  },
  {
   "cell_type": "code",
   "execution_count": 74,
   "metadata": {
    "collapsed": false,
    "pycharm": {
     "name": "#%%\n"
    }
   },
   "outputs": [
    {
     "data": {
      "text/plain": [
       "27144"
      ]
     },
     "execution_count": 74,
     "metadata": {},
     "output_type": "execute_result"
    }
   ],
   "source": [
    "# checking number of empty ipa\n",
    "len([i for i, item in enumerate(wiki_instances) if item.ipa == None])"
   ]
  },
  {
   "cell_type": "markdown",
   "metadata": {
    "collapsed": false,
    "pycharm": {
     "name": "#%% md\n"
    }
   },
   "source": [
    "# Final check"
   ]
  },
  {
   "cell_type": "code",
   "execution_count": 75,
   "metadata": {
    "collapsed": false,
    "pycharm": {
     "name": "#%%\n"
    }
   },
   "outputs": [
    {
     "name": "stdout",
     "output_type": "stream",
     "text": [
      "384515\n"
     ]
    }
   ],
   "source": [
    "def get_items_with_full_attributes():\n",
    "  items_with_full_attributes = [item for item in wiki_instances \n",
    "                                if item.accent\n",
    "                                and item.grammeme\n",
    "                                and item.meanings\n",
    "                                and item.pos\n",
    "                                and item.sounds\n",
    "                                and item.status\n",
    "                                and item.stem\n",
    "                                and item.word\n",
    "                                and item.word_lowcase\n",
    "                                and item.ipa\n",
    "                                ]\n",
    "  return items_with_full_attributes\n",
    "items_with_full_attributes = get_items_with_full_attributes()\n",
    "print(len(items_with_full_attributes))"
   ]
  },
  {
   "cell_type": "code",
   "execution_count": 76,
   "metadata": {
    "collapsed": false,
    "pycharm": {
     "name": "#%%\n"
    }
   },
   "outputs": [
    {
     "data": {
      "text/plain": [
       "[{'word': 'приглашавший',\n",
       "  'word_lowcase': 'приглашавший',\n",
       "  'stem': \"приглаша'ть\",\n",
       "  'pos': 'verb',\n",
       "  'grammeme': ['active', 'imperfective', 'participle', 'past'],\n",
       "  'forms': [{'form': 'приглаша́вший', 'tags': ['canonical']},\n",
       "   {'form': 'priglašávšij', 'tags': ['romanization']},\n",
       "   {'form': 'no-short-form', 'source': 'Declension', 'tags': ['table-tags']},\n",
       "   {'form': 'приглаша́вший',\n",
       "    'tags': ['masculine', 'nominative'],\n",
       "    'source': 'Declension',\n",
       "    'roman': 'priglašávšij'},\n",
       "   {'form': 'приглаша́вшее',\n",
       "    'tags': ['neuter', 'nominative'],\n",
       "    'source': 'Declension',\n",
       "    'roman': 'priglašávšeje'},\n",
       "   {'form': 'приглаша́вшая',\n",
       "    'tags': ['feminine', 'nominative'],\n",
       "    'source': 'Declension',\n",
       "    'roman': 'priglašávšaja'},\n",
       "   {'form': 'приглаша́вшие',\n",
       "    'tags': ['nominative', 'plural'],\n",
       "    'source': 'Declension',\n",
       "    'roman': 'priglašávšije'},\n",
       "   {'form': 'приглаша́вшего',\n",
       "    'tags': ['genitive', 'masculine', 'neuter'],\n",
       "    'source': 'Declension',\n",
       "    'roman': 'priglašávševo'},\n",
       "   {'form': 'приглаша́вшей',\n",
       "    'tags': ['feminine', 'genitive'],\n",
       "    'source': 'Declension',\n",
       "    'roman': 'priglašávšej'},\n",
       "   {'form': 'приглаша́вших',\n",
       "    'tags': ['genitive', 'plural'],\n",
       "    'source': 'Declension',\n",
       "    'roman': 'priglašávšix'},\n",
       "   {'form': 'приглаша́вшему',\n",
       "    'tags': ['dative', 'masculine', 'neuter'],\n",
       "    'source': 'Declension',\n",
       "    'roman': 'priglašávšemu'},\n",
       "   {'form': 'приглаша́вшей',\n",
       "    'tags': ['dative', 'feminine'],\n",
       "    'source': 'Declension',\n",
       "    'roman': 'priglašávšej'},\n",
       "   {'form': 'приглаша́вшим',\n",
       "    'tags': ['dative', 'plural'],\n",
       "    'source': 'Declension',\n",
       "    'roman': 'priglašávšim'},\n",
       "   {'form': 'приглаша́вшего',\n",
       "    'tags': ['accusative', 'animate', 'masculine'],\n",
       "    'source': 'Declension',\n",
       "    'roman': 'priglašávševo'},\n",
       "   {'form': 'приглаша́вшее',\n",
       "    'tags': ['accusative', 'neuter'],\n",
       "    'source': 'Declension',\n",
       "    'roman': 'priglašávšeje'},\n",
       "   {'form': 'приглаша́вшую',\n",
       "    'tags': ['accusative', 'feminine'],\n",
       "    'source': 'Declension',\n",
       "    'roman': 'priglašávšuju'},\n",
       "   {'form': 'приглаша́вших',\n",
       "    'tags': ['accusative', 'animate', 'plural'],\n",
       "    'source': 'Declension',\n",
       "    'roman': 'priglašávšix'},\n",
       "   {'form': 'приглаша́вший',\n",
       "    'tags': ['accusative', 'inanimate', 'masculine'],\n",
       "    'source': 'Declension',\n",
       "    'roman': 'priglašávšij'},\n",
       "   {'form': 'приглаша́вшие',\n",
       "    'tags': ['accusative', 'inanimate', 'plural'],\n",
       "    'source': 'Declension',\n",
       "    'roman': 'priglašávšije'},\n",
       "   {'form': 'приглаша́вшим',\n",
       "    'tags': ['instrumental', 'masculine', 'neuter'],\n",
       "    'source': 'Declension',\n",
       "    'roman': 'priglašávšim'},\n",
       "   {'form': 'приглаша́вшей',\n",
       "    'tags': ['feminine', 'instrumental'],\n",
       "    'source': 'Declension',\n",
       "    'roman': 'priglašávšej'},\n",
       "   {'form': 'приглаша́вшею',\n",
       "    'tags': ['feminine', 'instrumental'],\n",
       "    'source': 'Declension',\n",
       "    'roman': 'priglašávšeju'},\n",
       "   {'form': 'приглаша́вшими',\n",
       "    'tags': ['instrumental', 'plural'],\n",
       "    'source': 'Declension',\n",
       "    'roman': 'priglašávšimi'},\n",
       "   {'form': 'приглаша́вшем',\n",
       "    'tags': ['masculine', 'neuter', 'prepositional'],\n",
       "    'source': 'Declension',\n",
       "    'roman': 'priglašávšem'},\n",
       "   {'form': 'приглаша́вшей',\n",
       "    'tags': ['feminine', 'prepositional'],\n",
       "    'source': 'Declension',\n",
       "    'roman': 'priglašávšej'},\n",
       "   {'form': 'приглаша́вших',\n",
       "    'tags': ['plural', 'prepositional'],\n",
       "    'source': 'Declension',\n",
       "    'roman': 'priglašávšix'}],\n",
       "  'senses': [{'raw_glosses': ['past active imperfective participle of приглаша́ть (priglašátʹ)'],\n",
       "    'glosses': ['past active imperfective participle of приглаша́ть (priglašátʹ)'],\n",
       "    'tags': ['active', 'imperfective', 'participle', 'past'],\n",
       "    'form_of': [{'word': 'приглаша́ть', 'extra': 'priglašátʹ'}],\n",
       "    'id': 'приглашавший-ru-verb-98Yilcwe',\n",
       "    'categories': []}],\n",
       "  'meanings': [['past active imperfective participle of приглаша́ть (priglašátʹ)']],\n",
       "  'accent': \"приглаша'вший\",\n",
       "  'sounds': 'prʲɪɡɫɐˈʂafʂɨj',\n",
       "  'status': True,\n",
       "  'ipa': consonant retroflex sibilant-fricative voiceless\n",
       "  front open unrounded vowel\n",
       "  consonant labio-dental non-sibilant-fricative voiceless\n",
       "  consonant retroflex sibilant-fricative voiceless\n",
       "  central close unrounded vowel\n",
       "  approximant consonant palatal voiced,\n",
       "  'npipa': None,\n",
       "  'intipa': None}]"
      ]
     },
     "execution_count": 76,
     "metadata": {},
     "output_type": "execute_result"
    }
   ],
   "source": [
    "def get_random_words(sample):\n",
    "  r_numbers = [random.randint(0, len(wiki_instances)) for i in range(sample)]\n",
    "  random_words = [vars(item) for i, item in enumerate(wiki_instances) \\\n",
    "                  if i in r_numbers]\n",
    "  return random_words\n",
    "random_words =   get_random_words(1)\n",
    "random_words"
   ]
  },
  {
   "cell_type": "markdown",
   "metadata": {
    "collapsed": false,
    "pycharm": {
     "name": "#%% md\n"
    }
   },
   "source": [
    "# Ipa2Np"
   ]
  },
  {
   "cell_type": "markdown",
   "metadata": {
    "collapsed": false,
    "pycharm": {
     "name": "#%% md\n"
    }
   },
   "source": [
    "## IpaProcessing"
   ]
  },
  {
   "cell_type": "code",
   "execution_count": 77,
   "metadata": {
    "collapsed": false,
    "pycharm": {
     "name": "#%%\n"
    }
   },
   "outputs": [],
   "source": [
    "class IpaProcessing:\n",
    "  @classmethod\n",
    "  def get_unique_ipa(cls):\n",
    "        all_signs = set()\n",
    "        for item in wiki_instances:\n",
    "            if item.ipa:\n",
    "                value = item.ipa\n",
    "                for ch in value:\n",
    "                    all_signs.add(ch)\n",
    "        list_unique_ipas = [ipa_ch for ipa_ch in list(all_signs)]\n",
    "        list_unique_unicodes = [str(ip) for ip in list_unique_ipas]\n",
    "        list_unique_unicodes.sort()\n",
    "        return list_unique_unicodes\n",
    "\n",
    "  @classmethod\n",
    "  def get_sign2number(cls):\n",
    "    sign2number = dict((UNICODE_TO_IPA[l],i) for i, l in enumerate(list_unique_unicodes, start = 1))\n",
    "    return sign2number\n",
    "  \n",
    "  @classmethod\n",
    "  def get_number2sign(cls):\n",
    "    number2sign = dict((i,UNICODE_TO_IPA[l]) for i, l in enumerate(list_unique_unicodes, start = 1))\n",
    "    return number2sign \n",
    "\n",
    "  @classmethod\n",
    "  def get_max_length_of_ipa(cls):\n",
    "    lengths = [len(IPAString(unicode_string = item.sounds)) for item in wiki_instances \n",
    "               if item.status]\n",
    "    max_length_of_ipa = max(lengths)\n",
    "    return max_length_of_ipa\n",
    "\n",
    "  @classmethod\n",
    "  #func to convert ipa string to sparse numbers padding\n",
    "  def ipa_string_to_numbers(cls, ipa_string):\n",
    "    ipa_as_numbers = []\n",
    "    trans_as_IPAString = IPAString(unicode_string = ipa_string)\n",
    "\n",
    "    for ch in trans_as_IPAString:\n",
    "      n = sign2number[ch]\n",
    "      ipa_as_numbers.append(n)\n",
    "        \n",
    "    current_length = len(ipa_as_numbers)\n",
    "    ipa_as_numbers.extend(0 for i in range(max_length_of_ipa - current_length))\n",
    "    return ipa_as_numbers\n",
    "\n",
    "\n",
    "  #func to convert all ipa to array\n",
    "  @classmethod\n",
    "  def all_ipa_to_array(cls):\n",
    "\n",
    "    #save intermediate results, including save at the end\n",
    "    checks_and_save_points = [i for i in range(10000,400000,10000)]\n",
    "\n",
    "    count = 0\n",
    "    all_ipa_as_array = np.zeros(max_length_of_ipa)\n",
    "    for i,item in enumerate(wiki_instances):\n",
    "        \n",
    "      if item.status == True:\n",
    "        ipa_as_numbers = cls.ipa_string_to_numbers(item.sounds)\n",
    "        ipa_as_numbers = np.array(ipa_as_numbers)\n",
    "\n",
    "        all_ipa_as_array = np.vstack([all_ipa_as_array, ipa_as_numbers])\n",
    "        count +=1\n",
    "\n",
    "        if count in checks_and_save_points:\n",
    "          print(\"count\", count, \" \", \"i\", i)\n",
    "          \n",
    "    all_ipa_as_array = all_ipa_as_array[1:]\n",
    "    return all_ipa_as_array"
   ]
  },
  {
   "cell_type": "markdown",
   "metadata": {
    "collapsed": false,
    "pycharm": {
     "name": "#%% md\n"
    }
   },
   "source": [
    "## NpIpaProcessing"
   ]
  },
  {
   "cell_type": "code",
   "execution_count": 78,
   "metadata": {
    "collapsed": false,
    "pycharm": {
     "name": "#%%\n"
    }
   },
   "outputs": [],
   "source": [
    "class NpIpaProcessing(IpaProcessing):\n",
    "  #func to convert ipa string to sparse numbers padding\n",
    "  @classmethod\n",
    "  def ipa_string_to_numbers(cls, ipa_string):\n",
    "    ipa_as_numbers = []\n",
    "\n",
    "    for ch in ipa_string:\n",
    "      n = sign2number[ch]\n",
    "      ipa_as_numbers.append(n)\n",
    "    ipa_as_numbers = np.array(ipa_as_numbers, dtype = \"float32\")\n",
    "    return ipa_as_numbers\n",
    "  \n",
    "  @classmethod\n",
    "  def all_ipa_to_array(cls):\n",
    "    for item in wiki_instances:\n",
    "      if item.ipa:\n",
    "        ipa_string = item.ipa\n",
    "        item.npipa = cls.ipa_string_to_numbers(ipa_string)\n",
    "        \n",
    "  @classmethod\n",
    "  def uni_string_to_int(cls, ipa_string):\n",
    "    ipa_as_int = []\n",
    "\n",
    "    for ch in ipa_string:\n",
    "      n = sign2number[ch]\n",
    "      ipa_as_int.append(n) \n",
    "    return ipa_as_int\n",
    "  \n",
    "  @classmethod\n",
    "  def all_ipa_to_int(cls):\n",
    "    for item in wiki_instances:\n",
    "      if item.ipa:\n",
    "        ipa_string = item.ipa\n",
    "        item.intipa = cls.uni_string_to_int(ipa_string)"
   ]
  },
  {
   "cell_type": "code",
   "execution_count": 79,
   "metadata": {
    "collapsed": false,
    "pycharm": {
     "name": "#%%\n"
    }
   },
   "outputs": [
    {
     "name": "stdout",
     "output_type": "stream",
     "text": [
      "['a', 'b', 'bʲ', 'bʲː', 'bː', 'd', 'dʲ', 'dʲː', 'dː', 'd͡z', 'd͡zʲ', 'e', 'f', 'fʲ', 'i', 'j', 'jː', 'k', 'kʲ', 'kʲː', 'kː', 'lʲ', 'lʲː', 'lˠ', 'lˠː', 'm', 'mʲ', 'mʲː', 'mː', 'n', 'nʲ', 'nʲː', 'nː', 'o', 'p', 'pʲ', 'pʲː', 'pː', 'r', 'rʲ', 'rʲː', 'rː', 's', 'sʲ', 'sʲː', 'sː', 't', 'tʲ', 'tʲː', 'tː', 't͡s', 't͡sʲ', 't͡sː', 't͡ɕ', 't͡ɕː', 'u', 'v', 'vʲ', 'vʲː', 'vː', 'x', 'xʲ', 'z', 'zʲ', 'zʲː', 'zː', 'æ', 'ɐ', 'ɕ', 'ɕː', 'ə', 'ɛ', 'ɡ', 'ɡʲ', 'ɡː', 'ɨ', 'ɪ', 'ɵ', 'ʂ', 'ʂː', 'ʈ͡ʂ', 'ʉ', 'ʊ', 'ʐ', 'ʐː']\n",
      "85\n",
      "85\n"
     ]
    }
   ],
   "source": [
    "list_unique_unicodes = NpIpaProcessing.get_unique_ipa()\n",
    "print(list_unique_unicodes)\n",
    "number2sign = IpaProcessing.get_number2sign()\n",
    "print(len(number2sign))\n",
    "sign2number = IpaProcessing.get_sign2number()\n",
    "print(len(sign2number))"
   ]
  },
  {
   "cell_type": "markdown",
   "metadata": {
    "collapsed": false,
    "pycharm": {
     "name": "#%% md\n"
    }
   },
   "source": [
    "## all_ipa_to_array()"
   ]
  },
  {
   "cell_type": "code",
   "execution_count": 80,
   "metadata": {
    "collapsed": false,
    "pycharm": {
     "name": "#%%\n"
    }
   },
   "outputs": [],
   "source": [
    "NpIpaProcessing.all_ipa_to_array()"
   ]
  },
  {
   "cell_type": "code",
   "execution_count": 81,
   "metadata": {
    "collapsed": false,
    "pycharm": {
     "name": "#%%\n"
    }
   },
   "outputs": [
    {
     "data": {
      "text/plain": [
       "back close-mid rounded vowel\n",
       "bilabial consonant plosive voiced\n",
       "alveolar consonant lateral-approximant velarized voiced\n",
       "central mid unrounded vowel\n",
       "consonant plosive velar voiceless\n",
       "central mid unrounded vowel"
      ]
     },
     "execution_count": 81,
     "metadata": {},
     "output_type": "execute_result"
    }
   ],
   "source": [
    "ipa_string = find_item_from_dict(\"облако\", wiki_instances)[0].ipa\n",
    "ipa_string"
   ]
  },
  {
   "cell_type": "code",
   "execution_count": 82,
   "metadata": {
    "collapsed": false,
    "pycharm": {
     "name": "#%%\n"
    }
   },
   "outputs": [
    {
     "data": {
      "text/plain": [
       "array([34.,  2., 24., 71., 18., 71.], dtype=float32)"
      ]
     },
     "execution_count": 82,
     "metadata": {},
     "output_type": "execute_result"
    }
   ],
   "source": [
    "NpIpaProcessing.ipa_string_to_numbers(ipa_string)"
   ]
  },
  {
   "cell_type": "code",
   "execution_count": 83,
   "metadata": {
    "collapsed": false,
    "pycharm": {
     "name": "#%%\n"
    }
   },
   "outputs": [
    {
     "data": {
      "text/plain": [
       "back close-mid rounded vowel\n",
       "bilabial consonant plosive voiced\n",
       "alveolar consonant lateral-approximant velarized voiced\n",
       "central mid unrounded vowel\n",
       "consonant plosive velar voiceless\n",
       "central mid unrounded vowel"
      ]
     },
     "execution_count": 83,
     "metadata": {},
     "output_type": "execute_result"
    }
   ],
   "source": [
    "ipa_string = find_item_from_dict(\"облако\", wiki_instances)[0].ipa\n",
    "ipa_string"
   ]
  },
  {
   "cell_type": "code",
   "execution_count": 84,
   "metadata": {
    "collapsed": false,
    "pycharm": {
     "name": "#%%\n"
    }
   },
   "outputs": [
    {
     "data": {
      "text/plain": [
       "array([34.,  2., 24., 71., 18., 71.], dtype=float32)"
      ]
     },
     "execution_count": 84,
     "metadata": {},
     "output_type": "execute_result"
    }
   ],
   "source": [
    "ipa_as_numbers = NpIpaProcessing.ipa_string_to_numbers(ipa_string)\n",
    "ipa_as_numbers"
   ]
  },
  {
   "cell_type": "markdown",
   "metadata": {
    "collapsed": false,
    "pycharm": {
     "name": "#%% md\n"
    }
   },
   "source": [
    "## all_ipa_to_int"
   ]
  },
  {
   "cell_type": "code",
   "execution_count": 85,
   "metadata": {
    "collapsed": false,
    "pycharm": {
     "name": "#%%\n"
    }
   },
   "outputs": [],
   "source": [
    "NpIpaProcessing.all_ipa_to_int()"
   ]
  },
  {
   "cell_type": "code",
   "execution_count": 86,
   "metadata": {
    "collapsed": false,
    "pycharm": {
     "name": "#%%\n"
    }
   },
   "outputs": [
    {
     "data": {
      "text/plain": [
       "array([39., 76., 47., 71.], dtype=float32)"
      ]
     },
     "execution_count": 86,
     "metadata": {},
     "output_type": "execute_result"
    }
   ],
   "source": [
    "find_item_from_dict(\"корыто\", wiki_instances)[0].npipa"
   ]
  },
  {
   "cell_type": "markdown",
   "metadata": {
    "collapsed": false,
    "pycharm": {
     "name": "#%% md\n"
    }
   },
   "source": [
    "# Delete attributes"
   ]
  },
  {
   "cell_type": "code",
   "execution_count": 87,
   "metadata": {
    "collapsed": false,
    "pycharm": {
     "name": "#%%\n"
    }
   },
   "outputs": [],
   "source": [
    "# delattr(object, name)\n",
    "def remove_attributes():\n",
    "  for item in wiki_instances:\n",
    "    delattr(item, \"forms\")\n",
    "    delattr(item, \"senses\")\n",
    "remove_attributes()"
   ]
  },
  {
   "cell_type": "code",
   "execution_count": 88,
   "metadata": {
    "collapsed": false,
    "pycharm": {
     "name": "#%%\n"
    }
   },
   "outputs": [
    {
     "data": {
      "text/plain": [
       "{'word': 'дома',\n",
       " 'word_lowcase': 'дома',\n",
       " 'stem': None,\n",
       " 'pos': 'adv',\n",
       " 'grammeme': None,\n",
       " 'meanings': [['at home']],\n",
       " 'accent': \"до'ма\",\n",
       " 'sounds': 'ˈdomə',\n",
       " 'status': True,\n",
       " 'ipa': alveolar consonant plosive voiced\n",
       " back close-mid rounded vowel\n",
       " bilabial consonant nasal voiced\n",
       " central mid unrounded vowel,\n",
       " 'npipa': array([ 6., 34., 26., 71.], dtype=float32),\n",
       " 'intipa': [6, 34, 26, 71]}"
      ]
     },
     "execution_count": 88,
     "metadata": {},
     "output_type": "execute_result"
    }
   ],
   "source": [
    "vars(find_item_from_dict(\"дома\", wiki_instances)[0])"
   ]
  },
  {
   "cell_type": "markdown",
   "metadata": {
    "collapsed": false,
    "pycharm": {
     "name": "#%% md\n"
    }
   },
   "source": [
    "# Save"
   ]
  },
  {
   "cell_type": "code",
   "execution_count": 6,
   "metadata": {},
   "outputs": [
    {
     "data": {
      "text/plain": [
       "WindowsPath('c:/Users/eugen/Documents/wiktionary_rus')"
      ]
     },
     "execution_count": 6,
     "metadata": {},
     "output_type": "execute_result"
    }
   ],
   "source": [
    "Path.cwd().parent"
   ]
  },
  {
   "cell_type": "code",
   "execution_count": 90,
   "metadata": {
    "collapsed": false,
    "pycharm": {
     "name": "#%%\n"
    }
   },
   "outputs": [],
   "source": [
    "path_wiki_parsed = Path.cwd().parent / \"source/wiki_parsed.pkl\"\n",
    "\n",
    "# save\n",
    "with open(path_wiki_parsed, 'wb') as f:\n",
    "  dill.dump(wiki_instances, f)\n",
    "\n"
   ]
  },
  {
   "cell_type": "code",
   "execution_count": 91,
   "metadata": {},
   "outputs": [
    {
     "ename": "NameError",
     "evalue": "name 'wiki_instances' is not defined",
     "output_type": "error",
     "traceback": [
      "\u001b[1;31m---------------------------------------------------------------------------\u001b[0m",
      "\u001b[1;31mNameError\u001b[0m                                 Traceback (most recent call last)",
      "\u001b[1;32mc:\\Users\\eugen\\Documents\\wiktionary_rus\\wiktionary_rus\\source\\kaikki_parsing_to_Class.ipynb Cell 125\u001b[0m in \u001b[0;36m<cell line: 2>\u001b[1;34m()\u001b[0m\n\u001b[0;32m      <a href='vscode-notebook-cell:/c%3A/Users/eugen/Documents/wiktionary_rus/wiktionary_rus/source/kaikki_parsing_to_Class.ipynb#Y235sZmlsZQ%3D%3D?line=0'>1</a>\u001b[0m \u001b[39mdel\u001b[39;00m(wiki_instances)\n\u001b[1;32m----> <a href='vscode-notebook-cell:/c%3A/Users/eugen/Documents/wiktionary_rus/wiktionary_rus/source/kaikki_parsing_to_Class.ipynb#Y235sZmlsZQ%3D%3D?line=1'>2</a>\u001b[0m wiki_instances\n",
      "\u001b[1;31mNameError\u001b[0m: name 'wiki_instances' is not defined"
     ]
    }
   ],
   "source": [
    "del(wiki_instances)"
   ]
  },
  {
   "cell_type": "code",
   "execution_count": 93,
   "metadata": {},
   "outputs": [
    {
     "name": "stdout",
     "output_type": "stream",
     "text": [
      "422821\n",
      "{'word': 'свинина', 'word_lowcase': 'свинина', 'stem': \"свини'на\", 'pos': 'noun', 'grammeme': ['feminine', 'nominative', 'singular'], 'meanings': [['pork']], 'accent': \"свини'на\", 'sounds': 'svʲɪˈnʲinə', 'status': True, 'ipa': alveolar consonant nasal palatalized voiced\n",
      "close front unrounded vowel\n",
      "alveolar consonant nasal voiced\n",
      "central mid unrounded vowel, 'npipa': array([31., 15., 30., 71.], dtype=float32), 'intipa': [31, 15, 30, 71]}\n"
     ]
    }
   ],
   "source": [
    "# load\n",
    "with open(path_wiki_parsed, \"rb\") as f:\n",
    "  wiki_instances = dill.load(f)\n",
    "print(len(wiki_instances))\n",
    "print(vars(wiki_instances[199]))"
   ]
  },
  {
   "cell_type": "code",
   "execution_count": 95,
   "metadata": {},
   "outputs": [
    {
     "data": {
      "text/plain": [
       "{'word': 'понедельник',\n",
       " 'word_lowcase': 'понедельник',\n",
       " 'stem': \"понеде'льник\",\n",
       " 'pos': 'noun',\n",
       " 'grammeme': ['accusative', 'masculine', 'nominative', 'singular'],\n",
       " 'meanings': [['Monday']],\n",
       " 'accent': \"понеде'льник\",\n",
       " 'sounds': 'pənʲɪˈdʲelʲnʲɪk',\n",
       " 'status': True,\n",
       " 'ipa': alveolar consonant palatalized plosive voiced\n",
       " close-mid front unrounded vowel\n",
       " alveolar consonant lateral-approximant palatalized voiced\n",
       " alveolar consonant nasal palatalized voiced\n",
       " near-close near-front unrounded vowel\n",
       " consonant plosive velar voiceless,\n",
       " 'npipa': array([ 7., 12., 22., 31., 77., 18.], dtype=float32),\n",
       " 'intipa': [7, 12, 22, 31, 77, 18]}"
      ]
     },
     "execution_count": 95,
     "metadata": {},
     "output_type": "execute_result"
    }
   ],
   "source": [
    "vars(wiki_instances[450])"
   ]
  }
 ],
 "metadata": {
  "celltoolbar": "Raw Cell Format",
  "colab": {
   "collapsed_sections": [
    "rqb8NOWv3iV6",
    "XV2Xu_NEtNbr",
    "4-c_pP16BpgR",
    "fv3mHmuG_5_N",
    "ZIgCEtgq0cI2",
    "NYiwlK2W145Z",
    "YiooCO8I_SWu",
    "FmN55pSp_hL0",
    "lB_B1YEM_vU2",
    "Bcy46u7C-VS4",
    "5IvQANui_0VI",
    "7ubaZwpdDwoQ"
   ],
   "name": "01_wiki_parsing_to_Class.ipynb",
   "provenance": [
    {
     "file_id": "1lX54JEMYOTGi_TvV_foc-vx_3XK8__k8",
     "timestamp": 1653132073353
    },
    {
     "file_id": "1ZzbmTybSK6sKuE9sYuLdVjEYbCFT2tnh",
     "timestamp": 1643019352679
    }
   ],
   "toc_visible": true
  },
  "kernelspec": {
   "display_name": "Python 3.10.5 ('venv': venv)",
   "language": "python",
   "name": "python3"
  },
  "language_info": {
   "codemirror_mode": {
    "name": "ipython",
    "version": 3
   },
   "file_extension": ".py",
   "mimetype": "text/x-python",
   "name": "python",
   "nbconvert_exporter": "python",
   "pygments_lexer": "ipython3",
   "version": "3.10.5"
  },
  "toc": {
   "base_numbering": 1,
   "nav_menu": {
    "height": "241px",
    "width": "458px"
   },
   "number_sections": true,
   "sideBar": true,
   "skip_h1_title": false,
   "title_cell": "Table of Contents",
   "title_sidebar": "Contents",
   "toc_cell": false,
   "toc_position": {
    "height": "calc(100% - 180px)",
    "left": "10px",
    "top": "150px",
    "width": "298px"
   },
   "toc_section_display": true,
   "toc_window_display": true
  },
  "toc-autonumbering": false,
  "toc-showcode": false,
  "toc-showmarkdowntxt": false,
  "toc-showtags": false,
  "varInspector": {
   "cols": {
    "lenName": 16,
    "lenType": 16,
    "lenVar": 40
   },
   "kernels_config": {
    "python": {
     "delete_cmd_postfix": "",
     "delete_cmd_prefix": "del ",
     "library": "var_list.py",
     "varRefreshCmd": "print(var_dic_list())"
    },
    "r": {
     "delete_cmd_postfix": ") ",
     "delete_cmd_prefix": "rm(",
     "library": "var_list.r",
     "varRefreshCmd": "cat(var_dic_list()) "
    }
   },
   "types_to_exclude": [
    "module",
    "function",
    "builtin_function_or_method",
    "instance",
    "_Feature"
   ],
   "window_display": false
  },
  "vscode": {
   "interpreter": {
    "hash": "bfd65508daaee84fcc0380b51a559a4fed084e437124923eb717f8368e6b4921"
   }
  }
 },
 "nbformat": 4,
 "nbformat_minor": 4
}
